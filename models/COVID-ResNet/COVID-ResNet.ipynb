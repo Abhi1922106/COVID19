{
 "cells": [
  {
   "cell_type": "markdown",
   "metadata": {
    "colab_type": "text",
    "ein.tags": "worksheet-0",
    "id": "3e7geXMFyndA",
    "slideshow": {
     "slide_type": "-"
    }
   },
   "source": [
    "# COVID-ResNet implementation in Pytorch\n",
    "\n",
    "In this notebook, we attempt to implement the [COVID-ResNet paper](http://arxiv.org/abs/2003.14395) in `Pytorch` and using the `Fast.ai` library. \n",
    "\n",
    "Opposed to the original paper, the network is trained to classify between `COVID`, `Pneumonia` and `normal` using the original `COVIDx` dataset. "
   ]
  },
  {
   "cell_type": "code",
   "execution_count": 76,
   "metadata": {
    "autoscroll": false,
    "colab": null,
    "colab_type": "code",
    "collapsed": false,
    "ein.hycell": false,
    "ein.tags": "worksheet-0",
    "id": "NLm4gvRD_9Te",
    "jupyter": {
     "outputs_hidden": false
    },
    "slideshow": {
     "slide_type": "-"
    }
   },
   "outputs": [],
   "source": [
    "import pandas as pd\n",
    "import numpy as np\n",
    "import os, shutil\n",
    "from fastai.vision import *\n",
    "from fastai.widgets import ClassConfusion\n",
    "from sklearn.metrics import confusion_matrix, roc_curve, auc\n",
    "from sklearn.metrics import accuracy_score, precision_score, recall_score\n",
    "import seaborn as sns\n",
    "import matplotlib.pyplot as plt\n",
    "#from model_utils import custom_path_load, custom_path_save"
   ]
  },
  {
   "cell_type": "markdown",
   "metadata": {
    "ein.tags": "worksheet-0",
    "slideshow": {
     "slide_type": "-"
    }
   },
   "source": [
    "# Data\n",
    "\n",
    "We use two different datasets:\n",
    "\n",
    "* https://github.com/ieee8023/covid-chestxray-dataset, containing 99 COVID, 17 bacterial and 11 viral chest x-ray images. \n",
    "\n",
    "*  https://www.kaggle.com/c/rsna-pneumonia-detection-challenge containing 1345 viral and 2530 bacterial images.  \n",
    "\n",
    "Images have to be preprocessed a-priori using this attached [noteboook](./data_discovery.ipynb).\n",
    "\n",
    "Processed images are stored in `data/COVIDx`.  We import the training and testing `Dataframes` to select the correspondent labels. "
   ]
  },
  {
   "cell_type": "code",
   "execution_count": 3,
   "metadata": {
    "autoscroll": false,
    "colab": {
     "base_uri": "https://localhost:8080/",
     "height": 582
    },
    "colab_type": "code",
    "collapsed": false,
    "ein.hycell": false,
    "ein.tags": "worksheet-0",
    "id": "oL6USZoeV9Ol",
    "jupyter": {
     "outputs_hidden": false
    },
    "outputId": "7959513d-4f1f-4ca4-9ff8-9da21ff3a46e",
    "slideshow": {
     "slide_type": "-"
    }
   },
   "outputs": [
    {
     "data": {
      "text/html": [
       "<div>\n",
       "<style scoped>\n",
       "    .dataframe tbody tr th:only-of-type {\n",
       "        vertical-align: middle;\n",
       "    }\n",
       "\n",
       "    .dataframe tbody tr th {\n",
       "        vertical-align: top;\n",
       "    }\n",
       "\n",
       "    .dataframe thead th {\n",
       "        text-align: right;\n",
       "    }\n",
       "</style>\n",
       "<table border=\"1\" class=\"dataframe\">\n",
       "  <thead>\n",
       "    <tr style=\"text-align: right;\">\n",
       "      <th></th>\n",
       "      <th>name</th>\n",
       "      <th>label</th>\n",
       "    </tr>\n",
       "  </thead>\n",
       "  <tbody>\n",
       "    <tr>\n",
       "      <th>0</th>\n",
       "      <td>data/COVIDx/train/auntminnie-a-2020_01_28_23_5...</td>\n",
       "      <td>covid</td>\n",
       "    </tr>\n",
       "    <tr>\n",
       "      <th>1</th>\n",
       "      <td>data/COVIDx/train/auntminnie-b-2020_01_28_23_5...</td>\n",
       "      <td>covid</td>\n",
       "    </tr>\n",
       "    <tr>\n",
       "      <th>2</th>\n",
       "      <td>data/COVIDx/train/auntminnie-c-2020_01_28_23_5...</td>\n",
       "      <td>covid</td>\n",
       "    </tr>\n",
       "    <tr>\n",
       "      <th>3</th>\n",
       "      <td>data/COVIDx/train/auntminnie-d-2020_01_28_23_5...</td>\n",
       "      <td>covid</td>\n",
       "    </tr>\n",
       "    <tr>\n",
       "      <th>4</th>\n",
       "      <td>data/COVIDx/train/nejmc2001573_f1a.png</td>\n",
       "      <td>covid</td>\n",
       "    </tr>\n",
       "  </tbody>\n",
       "</table>\n",
       "</div>"
      ],
      "text/plain": [
       "                                                name  label\n",
       "0  data/COVIDx/train/auntminnie-a-2020_01_28_23_5...  covid\n",
       "1  data/COVIDx/train/auntminnie-b-2020_01_28_23_5...  covid\n",
       "2  data/COVIDx/train/auntminnie-c-2020_01_28_23_5...  covid\n",
       "3  data/COVIDx/train/auntminnie-d-2020_01_28_23_5...  covid\n",
       "4             data/COVIDx/train/nejmc2001573_f1a.png  covid"
      ]
     },
     "execution_count": 3,
     "metadata": {},
     "output_type": "execute_result"
    }
   ],
   "source": [
    "train_path = 'data/COVIDx/train'\n",
    "df_train = pd.read_pickle('covidX_train.pkl')\n",
    "df_test = pd.read_pickle('covidX_test.pkl')\n",
    "df_train.head()"
   ]
  },
  {
   "cell_type": "markdown",
   "metadata": {
    "ein.tags": "worksheet-0",
    "slideshow": {
     "slide_type": "-"
    }
   },
   "source": [
    "# Training\n",
    "\n",
    "Using a `resnet50` model. The model is `freezed` by default, resulting in `2,5M` training parameters. The model is trained on three stages. \n"
   ]
  },
  {
   "cell_type": "markdown",
   "metadata": {
    "ein.tags": "worksheet-0",
    "slideshow": {
     "slide_type": "-"
    }
   },
   "source": [
    "## Data augmentation\n",
    "\n",
    "Data augmentation helps in creating newer examples by applying different transformation randomly to the available training images. In this work, the transformation that we used included vertical flips of the training images, random rotation of the images (maximum rotation angle was 15 degree), and lighting conditions. Data augmentation increases the size of input training data along with the model regularization and hence improving generalization of the training model. Only the training data was augmented, and the test time augmentation was not explored."
   ]
  },
  {
   "cell_type": "code",
   "execution_count": 4,
   "metadata": {
    "autoscroll": false,
    "collapsed": false,
    "ein.hycell": false,
    "ein.tags": "worksheet-0",
    "jupyter": {
     "outputs_hidden": false
    },
    "slideshow": {
     "slide_type": "-"
    }
   },
   "outputs": [],
   "source": [
    "transforms = get_transforms(do_flip=True, \n",
    "                            flip_vert=True,\n",
    "                            max_rotate=15)"
   ]
  },
  {
   "cell_type": "markdown",
   "metadata": {
    "ein.tags": "worksheet-0",
    "slideshow": {
     "slide_type": "-"
    }
   },
   "source": [
    "## Model utils"
   ]
  },
  {
   "cell_type": "code",
   "execution_count": 5,
   "metadata": {
    "autoscroll": false,
    "cellView": "form",
    "colab": null,
    "colab_type": "code",
    "collapsed": false,
    "ein.hycell": false,
    "ein.tags": "worksheet-0",
    "id": "CZY3yItbg2Gn",
    "jupyter": {
     "outputs_hidden": false
    },
    "slideshow": {
     "slide_type": "-"
    }
   },
   "outputs": [],
   "source": [
    "model_name = 'resnet_covid_implementation'\n",
    "\n",
    "model_path = os.path.join('models', model_name)\n",
    "\n",
    "# create the models folder\n",
    "if os.path.exists('models') is False:\n",
    "    os.mkdir('models')\n",
    "\n",
    "# create the current model folder\n",
    "if os.path.exists(model_path) is False:\n",
    "    os.mkdir(model_path)\n",
    "   \n",
    "\n",
    "def custom_path_save(self, \n",
    "                     name:PathOrStr, \n",
    "                     path='models', \n",
    "                     return_path:bool=False, \n",
    "                     with_opt:bool=True):\n",
    "    '''\n",
    "    Save model and optimizer state (if `with_opt`) \n",
    "    with `name` to `self.model_dir`.\"\n",
    "    '''\n",
    "    if path == '': \n",
    "        path = self.path/self.model_dir/f'{name}.pth'\n",
    "    else: \n",
    "        path = f'{path}/{name}.pth'\n",
    "    if not with_opt: \n",
    "        state = get_model(self.model).state_dict()\n",
    "    else: \n",
    "        state = {'model': get_model(self.model).state_dict(), 'opt':self.opt.state_dict()}\n",
    "    torch.save(state, path)\n",
    "    \n",
    "    if return_path: \n",
    "        return path\n",
    "\n",
    "def custom_path_load(self, \n",
    "                     name:PathOrStr, \n",
    "                     path='models', \n",
    "                     device:torch.device=None, \n",
    "                     strict:bool=True, \n",
    "                     with_opt:bool=None,\n",
    "                     purge=False):\n",
    "    \"\"\"\n",
    "    Load model and optimizer state (if `with_opt`) `name` \n",
    "    from `self.model_dir` using `device`.\"\n",
    "\n",
    "    \"\"\"\n",
    "    if device is None: \n",
    "        device = self.data.device\n",
    "    if path=='': \n",
    "        path = self.path/self.model_dir/f'{name}.pth'\n",
    "    else: \n",
    "        path = f'{path}/{name}.pth'\n",
    "    \n",
    "    state = torch.load(path, map_location=device) \n",
    "    if set(state.keys()) == {'model', 'opt'}:\n",
    "        get_model(self.model).load_state_dict(state['model'], strict=strict)\n",
    "        if ifnone(with_opt,True):\n",
    "            if not hasattr(self, 'opt'): \n",
    "                opt = self.create_opt(defaults.lr, self.wd)\n",
    "            try:    \n",
    "                self.opt.load_state_dict(state['opt'])\n",
    "            except: \n",
    "                pass\n",
    "    else:\n",
    "        if with_opt: \n",
    "            warn(\"Saved filed doesn't contain an optimizer state.\")\n",
    "        get_model(self.model).load_state_dict(state, strict=strict)\n",
    "    return self"
   ]
  },
  {
   "cell_type": "markdown",
   "metadata": {
    "ein.tags": "worksheet-0",
    "slideshow": {
     "slide_type": "-"
    }
   },
   "source": [
    "\n",
    "## Stage 1\n",
    "\n",
    "The input images are resized to 128x128x3 pixels and the COVID-ResNet are tuned in 2 steps:\n",
    "\n",
    "1) only the newly added head of the network is trained while preserving the ImageNet weights for the rest of the body with a learning rate of 1e-3 for 3 epochs. \n",
    "\n",
    "2) the whole network is fine-tuned (both the body and the head of the model) using discriminative learning rate proposed in [9] for 5 epochs. \n"
   ]
  },
  {
   "cell_type": "code",
   "execution_count": 6,
   "metadata": {
    "autoscroll": false,
    "collapsed": false,
    "ein.hycell": false,
    "ein.tags": "worksheet-0",
    "jupyter": {
     "outputs_hidden": false
    },
    "slideshow": {
     "slide_type": "-"
    }
   },
   "outputs": [
    {
     "name": "stdout",
     "output_type": "stream",
     "text": [
      "TRAIN: 12507 VALIDATION: 4169\n"
     ]
    }
   ],
   "source": [
    "data = ImageDataBunch.from_df(path='.', \n",
    "                              df=df_train,\n",
    "                              valid_pct=0.25,\n",
    "                              test=None,\n",
    "                              ds_tfms=transforms, \n",
    "                              bs=32, \n",
    "                              size=128, \n",
    "                              num_workers=8).normalize(imagenet_stats)\n",
    "\n",
    "#show size of our datasets\n",
    "print(\"TRAIN:\", len(data.train_ds),\n",
    "      \"VALIDATION:\", len(data.valid_ds))\n",
    "\n",
    "precision = Precision(average='macro')\n",
    "AUC = AUROC()\n",
    "learn = cnn_learner(data, models.resnet50, metrics=(accuracy, precision, error_rate, AUC)) \n",
    "\n",
    "# data.show_batch(rows=3, figsize=(10,10))"
   ]
  },
  {
   "cell_type": "code",
   "execution_count": 7,
   "metadata": {
    "autoscroll": false,
    "colab_type": "text",
    "collapsed": false,
    "ein.hycell": false,
    "ein.tags": "worksheet-0",
    "id": "U0Jh0XPsevg3",
    "jupyter": {
     "outputs_hidden": false
    },
    "slideshow": {
     "slide_type": "-"
    }
   },
   "outputs": [
    {
     "data": {
      "text/html": [
       "<table border=\"1\" class=\"dataframe\">\n",
       "  <thead>\n",
       "    <tr style=\"text-align: left;\">\n",
       "      <th>epoch</th>\n",
       "      <th>train_loss</th>\n",
       "      <th>valid_loss</th>\n",
       "      <th>accuracy</th>\n",
       "      <th>precision</th>\n",
       "      <th>error_rate</th>\n",
       "      <th>auroc</th>\n",
       "      <th>time</th>\n",
       "    </tr>\n",
       "  </thead>\n",
       "  <tbody>\n",
       "    <tr>\n",
       "      <td>0</td>\n",
       "      <td>0.472669</td>\n",
       "      <td>0.415782</td>\n",
       "      <td>0.894219</td>\n",
       "      <td>nan</td>\n",
       "      <td>0.105781</td>\n",
       "      <td>0.044301</td>\n",
       "      <td>01:15</td>\n",
       "    </tr>\n",
       "    <tr>\n",
       "      <td>1</td>\n",
       "      <td>0.297933</td>\n",
       "      <td>0.243807</td>\n",
       "      <td>0.919645</td>\n",
       "      <td>0.946529</td>\n",
       "      <td>0.080355</td>\n",
       "      <td>0.029581</td>\n",
       "      <td>01:15</td>\n",
       "    </tr>\n",
       "    <tr>\n",
       "      <td>2</td>\n",
       "      <td>0.237206</td>\n",
       "      <td>0.224990</td>\n",
       "      <td>0.919165</td>\n",
       "      <td>0.946053</td>\n",
       "      <td>0.080835</td>\n",
       "      <td>0.027659</td>\n",
       "      <td>01:16</td>\n",
       "    </tr>\n",
       "  </tbody>\n",
       "</table>"
      ],
      "text/plain": [
       "<IPython.core.display.HTML object>"
      ]
     },
     "metadata": {},
     "output_type": "display_data"
    }
   ],
   "source": [
    "learn.freeze()\n",
    "learn.fit_one_cycle(3, max_lr=1e-3)"
   ]
  },
  {
   "cell_type": "code",
   "execution_count": 10,
   "metadata": {
    "autoscroll": false,
    "collapsed": false,
    "ein.hycell": false,
    "ein.tags": "worksheet-0",
    "jupyter": {
     "outputs_hidden": false
    },
    "slideshow": {
     "slide_type": "-"
    }
   },
   "outputs": [
    {
     "data": {
      "text/html": [
       "\n",
       "    <div>\n",
       "        <style>\n",
       "            /* Turns off some styling */\n",
       "            progress {\n",
       "                /* gets rid of default border in Firefox and Opera. */\n",
       "                border: none;\n",
       "                /* Needs to be in here for Safari polyfill so background images work as expected. */\n",
       "                background-size: auto;\n",
       "            }\n",
       "            .progress-bar-interrupted, .progress-bar-interrupted::-webkit-progress-bar {\n",
       "                background: #F44336;\n",
       "            }\n",
       "        </style>\n",
       "      <progress value='0' class='' max='1', style='width:300px; height:20px; vertical-align: middle;'></progress>\n",
       "      0.00% [0/1 00:00<00:00]\n",
       "    </div>\n",
       "    \n",
       "<table border=\"1\" class=\"dataframe\">\n",
       "  <thead>\n",
       "    <tr style=\"text-align: left;\">\n",
       "      <th>epoch</th>\n",
       "      <th>train_loss</th>\n",
       "      <th>valid_loss</th>\n",
       "      <th>accuracy</th>\n",
       "      <th>precision</th>\n",
       "      <th>error_rate</th>\n",
       "      <th>auroc</th>\n",
       "      <th>time</th>\n",
       "    </tr>\n",
       "  </thead>\n",
       "  <tbody>\n",
       "  </tbody>\n",
       "</table><p>\n",
       "\n",
       "    <div>\n",
       "        <style>\n",
       "            /* Turns off some styling */\n",
       "            progress {\n",
       "                /* gets rid of default border in Firefox and Opera. */\n",
       "                border: none;\n",
       "                /* Needs to be in here for Safari polyfill so background images work as expected. */\n",
       "                background-size: auto;\n",
       "            }\n",
       "            .progress-bar-interrupted, .progress-bar-interrupted::-webkit-progress-bar {\n",
       "                background: #F44336;\n",
       "            }\n",
       "        </style>\n",
       "      <progress value='79' class='' max='390', style='width:300px; height:20px; vertical-align: middle;'></progress>\n",
       "      20.26% [79/390 00:12<00:48 0.8056]\n",
       "    </div>\n",
       "    "
      ],
      "text/plain": [
       "<IPython.core.display.HTML object>"
      ]
     },
     "metadata": {},
     "output_type": "display_data"
    },
    {
     "name": "stdout",
     "output_type": "stream",
     "text": [
      "LR Finder is complete, type {learner_name}.recorder.plot() to see the graph.\n"
     ]
    },
    {
     "data": {
      "image/png": "[encoded data removed]",
      "text/plain": [
       "<Figure size 432x288 with 1 Axes>"
      ]
     },
     "metadata": {
      "needs_background": "light"
     },
     "output_type": "display_data"
    }
   ],
   "source": [
    "# find the best learning rate with discriminataive learning rate\n",
    "learn.unfreeze()\n",
    "learn.lr_find()\n",
    "learn.recorder.plot()"
   ]
  },
  {
   "cell_type": "code",
   "execution_count": 11,
   "metadata": {
    "autoscroll": false,
    "collapsed": false,
    "ein.hycell": false,
    "ein.tags": "worksheet-0",
    "jupyter": {
     "outputs_hidden": false
    },
    "slideshow": {
     "slide_type": "-"
    }
   },
   "outputs": [
    {
     "data": {
      "text/html": [
       "<table border=\"1\" class=\"dataframe\">\n",
       "  <thead>\n",
       "    <tr style=\"text-align: left;\">\n",
       "      <th>epoch</th>\n",
       "      <th>train_loss</th>\n",
       "      <th>valid_loss</th>\n",
       "      <th>accuracy</th>\n",
       "      <th>precision</th>\n",
       "      <th>error_rate</th>\n",
       "      <th>auroc</th>\n",
       "      <th>time</th>\n",
       "    </tr>\n",
       "  </thead>\n",
       "  <tbody>\n",
       "    <tr>\n",
       "      <td>0</td>\n",
       "      <td>0.345934</td>\n",
       "      <td>0.297545</td>\n",
       "      <td>0.898297</td>\n",
       "      <td>0.935151</td>\n",
       "      <td>0.101703</td>\n",
       "      <td>0.030709</td>\n",
       "      <td>01:16</td>\n",
       "    </tr>\n",
       "    <tr>\n",
       "      <td>1</td>\n",
       "      <td>0.350738</td>\n",
       "      <td>0.545873</td>\n",
       "      <td>0.917006</td>\n",
       "      <td>0.946290</td>\n",
       "      <td>0.082994</td>\n",
       "      <td>0.035818</td>\n",
       "      <td>01:16</td>\n",
       "    </tr>\n",
       "    <tr>\n",
       "      <td>2</td>\n",
       "      <td>0.223248</td>\n",
       "      <td>0.220476</td>\n",
       "      <td>0.932358</td>\n",
       "      <td>0.954956</td>\n",
       "      <td>0.067642</td>\n",
       "      <td>0.021280</td>\n",
       "      <td>01:15</td>\n",
       "    </tr>\n",
       "    <tr>\n",
       "      <td>3</td>\n",
       "      <td>0.210891</td>\n",
       "      <td>0.187350</td>\n",
       "      <td>0.931398</td>\n",
       "      <td>0.954231</td>\n",
       "      <td>0.068602</td>\n",
       "      <td>0.019808</td>\n",
       "      <td>01:15</td>\n",
       "    </tr>\n",
       "    <tr>\n",
       "      <td>4</td>\n",
       "      <td>0.191939</td>\n",
       "      <td>0.187155</td>\n",
       "      <td>0.930679</td>\n",
       "      <td>0.887209</td>\n",
       "      <td>0.069321</td>\n",
       "      <td>0.019732</td>\n",
       "      <td>01:15</td>\n",
       "    </tr>\n",
       "  </tbody>\n",
       "</table>"
      ],
      "text/plain": [
       "<IPython.core.display.HTML object>"
      ]
     },
     "metadata": {},
     "output_type": "display_data"
    }
   ],
   "source": [
    "learn.fit_one_cycle(5, max_lr=slice(1e-06,1e-02))\n",
    "learn.save(os.path.join(model_name, model_name + '_stage1'))"
   ]
  },
  {
   "cell_type": "markdown",
   "metadata": {
    "ein.tags": "worksheet-0",
    "slideshow": {
     "slide_type": "-"
    }
   },
   "source": [
    "## Stage 2\n",
    "\n",
    "1) The head of the model resulting from stage-I is further fine-tuned with images of size 224x224x3 in the first step with learning rate of 1e-4 for 3 epochs. \n",
    "\n",
    "2) In the second step, the whole network is further fine-tuned for 5 epochs with discriminative learning rate as before. \n"
   ]
  },
  {
   "cell_type": "code",
   "execution_count": 22,
   "metadata": {},
   "outputs": [
    {
     "name": "stdout",
     "output_type": "stream",
     "text": [
      "TRAIN: 12507 VALIDATION: 4169\n"
     ]
    }
   ],
   "source": [
    "data = ImageDataBunch.from_df(path='.', \n",
    "                              df=df_train,\n",
    "                              valid_pct=0.25,\n",
    "                              test=None,\n",
    "                              ds_tfms=transforms, \n",
    "                              bs=32, \n",
    "                              size=224, \n",
    "                              num_workers=8).normalize(imagenet_stats)\n",
    "\n",
    "#show size of our datasets\n",
    "print(\"TRAIN:\", len(data.train_ds),\n",
    "      \"VALIDATION:\", len(data.valid_ds))\n",
    "\n",
    "precision = Precision(average='macro')\n",
    "AUC = AUROC()\n",
    "learn = cnn_learner(data, models.resnet50, metrics=(accuracy, precision, error_rate, AUC))\n",
    "\n",
    "# data.show_batch(rows=3, figsize=(10,10))"
   ]
  },
  {
   "cell_type": "code",
   "execution_count": null,
   "metadata": {},
   "outputs": [],
   "source": [
    "# load previous weights with 128 x 128 images\n",
    "learn.load(os.path.join(model_name, model_name + '_stage1'))\n",
    "\n",
    "# train for 3 epochs\n",
    "learn.freeze() # probably unnecessaryZ\n",
    "learn.fit_one_cycle(3, max_lr=1e-04)"
   ]
  },
  {
   "cell_type": "code",
   "execution_count": 24,
   "metadata": {},
   "outputs": [
    {
     "data": {
      "text/html": [
       "\n",
       "    <div>\n",
       "        <style>\n",
       "            /* Turns off some styling */\n",
       "            progress {\n",
       "                /* gets rid of default border in Firefox and Opera. */\n",
       "                border: none;\n",
       "                /* Needs to be in here for Safari polyfill so background images work as expected. */\n",
       "                background-size: auto;\n",
       "            }\n",
       "            .progress-bar-interrupted, .progress-bar-interrupted::-webkit-progress-bar {\n",
       "                background: #F44336;\n",
       "            }\n",
       "        </style>\n",
       "      <progress value='0' class='' max='1', style='width:300px; height:20px; vertical-align: middle;'></progress>\n",
       "      0.00% [0/1 00:00<00:00]\n",
       "    </div>\n",
       "    \n",
       "<table border=\"1\" class=\"dataframe\">\n",
       "  <thead>\n",
       "    <tr style=\"text-align: left;\">\n",
       "      <th>epoch</th>\n",
       "      <th>train_loss</th>\n",
       "      <th>valid_loss</th>\n",
       "      <th>accuracy</th>\n",
       "      <th>precision</th>\n",
       "      <th>error_rate</th>\n",
       "      <th>auroc</th>\n",
       "      <th>time</th>\n",
       "    </tr>\n",
       "  </thead>\n",
       "  <tbody>\n",
       "  </tbody>\n",
       "</table><p>\n",
       "\n",
       "    <div>\n",
       "        <style>\n",
       "            /* Turns off some styling */\n",
       "            progress {\n",
       "                /* gets rid of default border in Firefox and Opera. */\n",
       "                border: none;\n",
       "                /* Needs to be in here for Safari polyfill so background images work as expected. */\n",
       "                background-size: auto;\n",
       "            }\n",
       "            .progress-bar-interrupted, .progress-bar-interrupted::-webkit-progress-bar {\n",
       "                background: #F44336;\n",
       "            }\n",
       "        </style>\n",
       "      <progress value='77' class='' max='390', style='width:300px; height:20px; vertical-align: middle;'></progress>\n",
       "      19.74% [77/390 00:14<00:59 0.6506]\n",
       "    </div>\n",
       "    "
      ],
      "text/plain": [
       "<IPython.core.display.HTML object>"
      ]
     },
     "metadata": {},
     "output_type": "display_data"
    },
    {
     "name": "stdout",
     "output_type": "stream",
     "text": [
      "LR Finder is complete, type {learner_name}.recorder.plot() to see the graph.\n"
     ]
    },
    {
     "data": {
      "image/png": "[encoded data removed]",
      "text/plain": [
       "<Figure size 432x288 with 1 Axes>"
      ]
     },
     "metadata": {
      "needs_background": "light"
     },
     "output_type": "display_data"
    }
   ],
   "source": [
    "learn.unfreeze()\n",
    "learn.lr_find()\n",
    "learn.recorder.plot()"
   ]
  },
  {
   "cell_type": "code",
   "execution_count": 26,
   "metadata": {},
   "outputs": [
    {
     "data": {
      "text/html": [
       "<table border=\"1\" class=\"dataframe\">\n",
       "  <thead>\n",
       "    <tr style=\"text-align: left;\">\n",
       "      <th>epoch</th>\n",
       "      <th>train_loss</th>\n",
       "      <th>valid_loss</th>\n",
       "      <th>accuracy</th>\n",
       "      <th>precision</th>\n",
       "      <th>error_rate</th>\n",
       "      <th>auroc</th>\n",
       "      <th>time</th>\n",
       "    </tr>\n",
       "  </thead>\n",
       "  <tbody>\n",
       "    <tr>\n",
       "      <td>0</td>\n",
       "      <td>0.157222</td>\n",
       "      <td>5.762094</td>\n",
       "      <td>0.934517</td>\n",
       "      <td>0.698703</td>\n",
       "      <td>0.065483</td>\n",
       "      <td>0.018725</td>\n",
       "      <td>01:30</td>\n",
       "    </tr>\n",
       "    <tr>\n",
       "      <td>1</td>\n",
       "      <td>0.176794</td>\n",
       "      <td>14.851979</td>\n",
       "      <td>0.946030</td>\n",
       "      <td>0.930957</td>\n",
       "      <td>0.053970</td>\n",
       "      <td>0.015792</td>\n",
       "      <td>01:30</td>\n",
       "    </tr>\n",
       "    <tr>\n",
       "      <td>2</td>\n",
       "      <td>0.178539</td>\n",
       "      <td>0.564443</td>\n",
       "      <td>0.945071</td>\n",
       "      <td>0.939560</td>\n",
       "      <td>0.054929</td>\n",
       "      <td>0.016251</td>\n",
       "      <td>01:30</td>\n",
       "    </tr>\n",
       "    <tr>\n",
       "      <td>3</td>\n",
       "      <td>0.149509</td>\n",
       "      <td>0.171283</td>\n",
       "      <td>0.947469</td>\n",
       "      <td>0.925883</td>\n",
       "      <td>0.052531</td>\n",
       "      <td>0.019107</td>\n",
       "      <td>01:31</td>\n",
       "    </tr>\n",
       "    <tr>\n",
       "      <td>4</td>\n",
       "      <td>0.137970</td>\n",
       "      <td>0.150033</td>\n",
       "      <td>0.947949</td>\n",
       "      <td>0.943058</td>\n",
       "      <td>0.052051</td>\n",
       "      <td>0.016917</td>\n",
       "      <td>01:31</td>\n",
       "    </tr>\n",
       "  </tbody>\n",
       "</table>"
      ],
      "text/plain": [
       "<IPython.core.display.HTML object>"
      ]
     },
     "metadata": {},
     "output_type": "display_data"
    }
   ],
   "source": [
    "learn.fit_one_cycle(5, max_lr=slice(1e-06,1e-02))\n",
    "learn.save(os.path.join(model_name, model_name + '_stage2'))"
   ]
  },
  {
   "cell_type": "code",
   "execution_count": 26,
   "metadata": {},
   "outputs": [
    {
     "data": {
      "text/html": [
       "<table border=\"1\" class=\"dataframe\">\n",
       "  <thead>\n",
       "    <tr style=\"text-align: left;\">\n",
       "      <th>epoch</th>\n",
       "      <th>train_loss</th>\n",
       "      <th>valid_loss</th>\n",
       "      <th>accuracy</th>\n",
       "      <th>precision</th>\n",
       "      <th>error_rate</th>\n",
       "      <th>auroc</th>\n",
       "      <th>time</th>\n",
       "    </tr>\n",
       "  </thead>\n",
       "  <tbody>\n",
       "    <tr>\n",
       "      <td>0</td>\n",
       "      <td>0.157222</td>\n",
       "      <td>5.762094</td>\n",
       "      <td>0.934517</td>\n",
       "      <td>0.698703</td>\n",
       "      <td>0.065483</td>\n",
       "      <td>0.018725</td>\n",
       "      <td>01:30</td>\n",
       "    </tr>\n",
       "    <tr>\n",
       "      <td>1</td>\n",
       "      <td>0.176794</td>\n",
       "      <td>14.851979</td>\n",
       "      <td>0.946030</td>\n",
       "      <td>0.930957</td>\n",
       "      <td>0.053970</td>\n",
       "      <td>0.015792</td>\n",
       "      <td>01:30</td>\n",
       "    </tr>\n",
       "    <tr>\n",
       "      <td>2</td>\n",
       "      <td>0.178539</td>\n",
       "      <td>0.564443</td>\n",
       "      <td>0.945071</td>\n",
       "      <td>0.939560</td>\n",
       "      <td>0.054929</td>\n",
       "      <td>0.016251</td>\n",
       "      <td>01:30</td>\n",
       "    </tr>\n",
       "    <tr>\n",
       "      <td>3</td>\n",
       "      <td>0.149509</td>\n",
       "      <td>0.171283</td>\n",
       "      <td>0.947469</td>\n",
       "      <td>0.925883</td>\n",
       "      <td>0.052531</td>\n",
       "      <td>0.019107</td>\n",
       "      <td>01:31</td>\n",
       "    </tr>\n",
       "    <tr>\n",
       "      <td>4</td>\n",
       "      <td>0.137970</td>\n",
       "      <td>0.150033</td>\n",
       "      <td>0.947949</td>\n",
       "      <td>0.943058</td>\n",
       "      <td>0.052051</td>\n",
       "      <td>0.016917</td>\n",
       "      <td>01:31</td>\n",
       "    </tr>\n",
       "  </tbody>\n",
       "</table>"
      ],
      "text/plain": [
       "<IPython.core.display.HTML object>"
      ]
     },
     "metadata": {},
     "output_type": "display_data"
    }
   ],
   "source": [
    "learn.fit_one_cycle(5, max_lr=slice(1e-06,1e-02))\n",
    "learn.save(os.path.join(model_name, model_name + '_stage2'))"
   ]
  },
  {
   "cell_type": "markdown",
   "metadata": {},
   "source": [
    "## Stage 3\n",
    "\n",
    "ast stage, the whole network is further fine-tuned with input images of size 229x229x3 for 25 epochs. In this case we use discriminative learning rates where the earliest layer was trained with a learning rate of 1e-6 and the last layer was trained with a learning rate of 1e-4. All the layers in between were trained with equidistance learning rates between these two values.\n",
    "Training"
   ]
  },
  {
   "cell_type": "code",
   "execution_count": 71,
   "metadata": {},
   "outputs": [
    {
     "name": "stdout",
     "output_type": "stream",
     "text": [
      "TRAIN: 12507 VALIDATION: 4169\n"
     ]
    }
   ],
   "source": [
    "data = ImageDataBunch.from_df(path='.', \n",
    "                              df=df_train,\n",
    "                              valid_pct=0.25,\n",
    "                              test=None,\n",
    "                              ds_tfms=transforms, \n",
    "                              bs=32, \n",
    "                              size=229, \n",
    "                              num_workers=8).normalize(imagenet_stats)\n",
    "\n",
    "#show size of our datasets\n",
    "print(\"TRAIN:\", len(data.train_ds),\n",
    "      \"VALIDATION:\", len(data.valid_ds))\n",
    "\n",
    "precision = Precision(average='macro')\n",
    "AUC = AUROC()\n",
    "learn = cnn_learner(data, models.resnet50, metrics=(accuracy, precision, error_rate, AUC))"
   ]
  },
  {
   "cell_type": "code",
   "execution_count": 72,
   "metadata": {},
   "outputs": [
    {
     "data": {
      "text/html": [
       "<table border=\"1\" class=\"dataframe\">\n",
       "  <thead>\n",
       "    <tr style=\"text-align: left;\">\n",
       "      <th>epoch</th>\n",
       "      <th>train_loss</th>\n",
       "      <th>valid_loss</th>\n",
       "      <th>accuracy</th>\n",
       "      <th>precision</th>\n",
       "      <th>error_rate</th>\n",
       "      <th>auroc</th>\n",
       "      <th>time</th>\n",
       "    </tr>\n",
       "  </thead>\n",
       "  <tbody>\n",
       "    <tr>\n",
       "      <td>0</td>\n",
       "      <td>0.148248</td>\n",
       "      <td>0.315586</td>\n",
       "      <td>0.953946</td>\n",
       "      <td>0.969162</td>\n",
       "      <td>0.046054</td>\n",
       "      <td>0.018516</td>\n",
       "      <td>01:34</td>\n",
       "    </tr>\n",
       "    <tr>\n",
       "      <td>1</td>\n",
       "      <td>0.147710</td>\n",
       "      <td>0.247595</td>\n",
       "      <td>0.955625</td>\n",
       "      <td>0.937250</td>\n",
       "      <td>0.044375</td>\n",
       "      <td>0.015246</td>\n",
       "      <td>01:34</td>\n",
       "    </tr>\n",
       "    <tr>\n",
       "      <td>2</td>\n",
       "      <td>0.160633</td>\n",
       "      <td>0.525619</td>\n",
       "      <td>0.950828</td>\n",
       "      <td>0.949807</td>\n",
       "      <td>0.049172</td>\n",
       "      <td>0.016717</td>\n",
       "      <td>01:34</td>\n",
       "    </tr>\n",
       "    <tr>\n",
       "      <td>3</td>\n",
       "      <td>0.134670</td>\n",
       "      <td>0.118303</td>\n",
       "      <td>0.955385</td>\n",
       "      <td>0.970100</td>\n",
       "      <td>0.044615</td>\n",
       "      <td>0.016266</td>\n",
       "      <td>01:34</td>\n",
       "    </tr>\n",
       "    <tr>\n",
       "      <td>4</td>\n",
       "      <td>0.137094</td>\n",
       "      <td>0.208702</td>\n",
       "      <td>0.955625</td>\n",
       "      <td>0.942757</td>\n",
       "      <td>0.044375</td>\n",
       "      <td>0.017846</td>\n",
       "      <td>01:34</td>\n",
       "    </tr>\n",
       "    <tr>\n",
       "      <td>5</td>\n",
       "      <td>0.138902</td>\n",
       "      <td>1.189591</td>\n",
       "      <td>0.954665</td>\n",
       "      <td>0.950175</td>\n",
       "      <td>0.045335</td>\n",
       "      <td>0.014708</td>\n",
       "      <td>01:34</td>\n",
       "    </tr>\n",
       "    <tr>\n",
       "      <td>6</td>\n",
       "      <td>0.133596</td>\n",
       "      <td>0.178683</td>\n",
       "      <td>0.955625</td>\n",
       "      <td>0.941576</td>\n",
       "      <td>0.044375</td>\n",
       "      <td>0.015874</td>\n",
       "      <td>01:34</td>\n",
       "    </tr>\n",
       "    <tr>\n",
       "      <td>7</td>\n",
       "      <td>0.140367</td>\n",
       "      <td>0.121203</td>\n",
       "      <td>0.956105</td>\n",
       "      <td>0.955576</td>\n",
       "      <td>0.043895</td>\n",
       "      <td>0.015675</td>\n",
       "      <td>01:34</td>\n",
       "    </tr>\n",
       "    <tr>\n",
       "      <td>8</td>\n",
       "      <td>0.129280</td>\n",
       "      <td>2.106376</td>\n",
       "      <td>0.953706</td>\n",
       "      <td>0.939017</td>\n",
       "      <td>0.046294</td>\n",
       "      <td>0.016044</td>\n",
       "      <td>01:34</td>\n",
       "    </tr>\n",
       "    <tr>\n",
       "      <td>9</td>\n",
       "      <td>0.128727</td>\n",
       "      <td>0.117074</td>\n",
       "      <td>0.956824</td>\n",
       "      <td>0.971052</td>\n",
       "      <td>0.043176</td>\n",
       "      <td>0.015657</td>\n",
       "      <td>01:34</td>\n",
       "    </tr>\n",
       "  </tbody>\n",
       "</table>"
      ],
      "text/plain": [
       "<IPython.core.display.HTML object>"
      ]
     },
     "metadata": {},
     "output_type": "display_data"
    }
   ],
   "source": [
    "# load weights from stage 2\n",
    "learn.load(os.path.join(model_name, model_name + '_stage2'))\n",
    "\n",
    "# apply inbalance\n",
    "import torch.nn as nn\n",
    "Learner.crit = nn.CrossEntropyLoss(weight=torch.tensor([1, 0.05, 0.05]))\n",
    "\n",
    "# train for 3 epochs\n",
    "\n",
    "learn.freeze() # probably unnecessaryZ\n",
    "learn.fit_one_cycle(10, max_lr=1e-04)"
   ]
  },
  {
   "cell_type": "code",
   "execution_count": 61,
   "metadata": {},
   "outputs": [
    {
     "data": {
      "text/html": [
       "\n",
       "    <div>\n",
       "        <style>\n",
       "            /* Turns off some styling */\n",
       "            progress {\n",
       "                /* gets rid of default border in Firefox and Opera. */\n",
       "                border: none;\n",
       "                /* Needs to be in here for Safari polyfill so background images work as expected. */\n",
       "                background-size: auto;\n",
       "            }\n",
       "            .progress-bar-interrupted, .progress-bar-interrupted::-webkit-progress-bar {\n",
       "                background: #F44336;\n",
       "            }\n",
       "        </style>\n",
       "      <progress value='0' class='' max='1', style='width:300px; height:20px; vertical-align: middle;'></progress>\n",
       "      0.00% [0/1 00:00<00:00]\n",
       "    </div>\n",
       "    \n",
       "<table border=\"1\" class=\"dataframe\">\n",
       "  <thead>\n",
       "    <tr style=\"text-align: left;\">\n",
       "      <th>epoch</th>\n",
       "      <th>train_loss</th>\n",
       "      <th>valid_loss</th>\n",
       "      <th>accuracy</th>\n",
       "      <th>precision</th>\n",
       "      <th>error_rate</th>\n",
       "      <th>auroc</th>\n",
       "      <th>time</th>\n",
       "    </tr>\n",
       "  </thead>\n",
       "  <tbody>\n",
       "  </tbody>\n",
       "</table><p>\n",
       "\n",
       "    <div>\n",
       "        <style>\n",
       "            /* Turns off some styling */\n",
       "            progress {\n",
       "                /* gets rid of default border in Firefox and Opera. */\n",
       "                border: none;\n",
       "                /* Needs to be in here for Safari polyfill so background images work as expected. */\n",
       "                background-size: auto;\n",
       "            }\n",
       "            .progress-bar-interrupted, .progress-bar-interrupted::-webkit-progress-bar {\n",
       "                background: #F44336;\n",
       "            }\n",
       "        </style>\n",
       "      <progress value='50' class='' max='390', style='width:300px; height:20px; vertical-align: middle;'></progress>\n",
       "      12.82% [50/390 00:10<01:13 0.1690]\n",
       "    </div>\n",
       "    "
      ],
      "text/plain": [
       "<IPython.core.display.HTML object>"
      ]
     },
     "metadata": {},
     "output_type": "display_data"
    },
    {
     "name": "stdout",
     "output_type": "stream",
     "text": [
      "LR Finder is complete, type {learner_name}.recorder.plot() to see the graph.\n"
     ]
    },
    {
     "data": {
      "image/png": "[encoded data removed]",
      "text/plain": [
       "<Figure size 432x288 with 1 Axes>"
      ]
     },
     "metadata": {
      "needs_background": "light"
     },
     "output_type": "display_data"
    }
   ],
   "source": [
    "# discriminative lr: earliest layers: 1e-06, last: 1e-04\n",
    "learn.unfreeze()\n",
    "learn.lr_find()\n",
    "learn.recorder.plot()"
   ]
  },
  {
   "cell_type": "code",
   "execution_count": null,
   "metadata": {},
   "outputs": [],
   "source": [
    "learn.fit_one_cycle(5, max_lr=slice(1e-06,1e-02))\n",
    "learn.save(os.path.join(model_name, model_name + '_stage3'))"
   ]
  },
  {
   "cell_type": "code",
   "execution_count": 73,
   "metadata": {},
   "outputs": [
    {
     "data": {
      "text/html": [],
      "text/plain": [
       "<IPython.core.display.HTML object>"
      ]
     },
     "metadata": {},
     "output_type": "display_data"
    },
    {
     "data": {
      "image/png": "[encoded data removed]",
      "text/plain": [
       "<Figure size 432x288 with 1 Axes>"
      ]
     },
     "metadata": {
      "needs_background": "light"
     },
     "output_type": "display_data"
    }
   ],
   "source": [
    "interp = ClassificationInterpretation.from_learner(learn)\n",
    "interp.plot_confusion_matrix()"
   ]
  },
  {
   "cell_type": "markdown",
   "metadata": {},
   "source": [
    "# Prediction on test set\n",
    "\n",
    "Test images are in `df_test` dataframe. We evaluate the performance of the method in terms of the sensitivity and predictive positive value to compare with COVID-Net results as reported [here](https://arxiv.org/pdf/2003.09871.pdf)."
   ]
  },
  {
   "cell_type": "code",
   "execution_count": 80,
   "metadata": {},
   "outputs": [
    {
     "data": {
      "text/html": [
       "<div>\n",
       "<style scoped>\n",
       "    .dataframe tbody tr th:only-of-type {\n",
       "        vertical-align: middle;\n",
       "    }\n",
       "\n",
       "    .dataframe tbody tr th {\n",
       "        vertical-align: top;\n",
       "    }\n",
       "\n",
       "    .dataframe thead th {\n",
       "        text-align: right;\n",
       "    }\n",
       "</style>\n",
       "<table border=\"1\" class=\"dataframe\">\n",
       "  <thead>\n",
       "    <tr style=\"text-align: right;\">\n",
       "      <th></th>\n",
       "      <th>name</th>\n",
       "      <th>label</th>\n",
       "    </tr>\n",
       "  </thead>\n",
       "  <tbody>\n",
       "    <tr>\n",
       "      <th>0</th>\n",
       "      <td>data/COVIDx/test/1.CXRCTThoraximagesofCOVID-19...</td>\n",
       "      <td>covid</td>\n",
       "    </tr>\n",
       "    <tr>\n",
       "      <th>1</th>\n",
       "      <td>data/COVIDx/test/1.CXRCTThoraximagesofCOVID-19...</td>\n",
       "      <td>covid</td>\n",
       "    </tr>\n",
       "    <tr>\n",
       "      <th>2</th>\n",
       "      <td>data/COVIDx/test/1.CXRCTThoraximagesofCOVID-19...</td>\n",
       "      <td>covid</td>\n",
       "    </tr>\n",
       "    <tr>\n",
       "      <th>3</th>\n",
       "      <td>data/COVIDx/test/1.CXRCTThoraximagesofCOVID-19...</td>\n",
       "      <td>covid</td>\n",
       "    </tr>\n",
       "    <tr>\n",
       "      <th>4</th>\n",
       "      <td>data/COVIDx/test/covid-19-pneumonia-evolution-...</td>\n",
       "      <td>covid</td>\n",
       "    </tr>\n",
       "    <tr>\n",
       "      <th>5</th>\n",
       "      <td>data/COVIDx/test/53EC07C9-5CC6-4BE4-9B6F-D7B0D...</td>\n",
       "      <td>covid</td>\n",
       "    </tr>\n",
       "    <tr>\n",
       "      <th>6</th>\n",
       "      <td>data/COVIDx/test/covid-19-caso-70-1-PA.png</td>\n",
       "      <td>covid</td>\n",
       "    </tr>\n",
       "    <tr>\n",
       "      <th>7</th>\n",
       "      <td>data/COVIDx/test/4e43e48d52c9e2d4c6c1fb9bc1544...</td>\n",
       "      <td>covid</td>\n",
       "    </tr>\n",
       "    <tr>\n",
       "      <th>8</th>\n",
       "      <td>data/COVIDx/test/covid-19-pneumonia-53.png</td>\n",
       "      <td>covid</td>\n",
       "    </tr>\n",
       "    <tr>\n",
       "      <th>9</th>\n",
       "      <td>data/COVIDx/test/fff49165-b22d-4bb4-b9d1-d5d62...</td>\n",
       "      <td>covid</td>\n",
       "    </tr>\n",
       "    <tr>\n",
       "      <th>10</th>\n",
       "      <td>data/COVIDx/test/SARS-10.1148rg.242035193-g04m...</td>\n",
       "      <td>pneumonia</td>\n",
       "    </tr>\n",
       "    <tr>\n",
       "      <th>11</th>\n",
       "      <td>data/COVIDx/test/SARS-10.1148rg.242035193-g04m...</td>\n",
       "      <td>pneumonia</td>\n",
       "    </tr>\n",
       "    <tr>\n",
       "      <th>12</th>\n",
       "      <td>data/COVIDx/test/SARS-10.1148rg.242035193-g04m...</td>\n",
       "      <td>pneumonia</td>\n",
       "    </tr>\n",
       "    <tr>\n",
       "      <th>13</th>\n",
       "      <td>data/COVIDx/test/f26e5df0-bd0d-4d54-86b6-ea40c...</td>\n",
       "      <td>pneumonia</td>\n",
       "    </tr>\n",
       "    <tr>\n",
       "      <th>14</th>\n",
       "      <td>data/COVIDx/test/f26ede75-cee6-4248-9219-017f3...</td>\n",
       "      <td>pneumonia</td>\n",
       "    </tr>\n",
       "    <tr>\n",
       "      <th>15</th>\n",
       "      <td>data/COVIDx/test/f26f795e-e989-40ce-a076-57632...</td>\n",
       "      <td>pneumonia</td>\n",
       "    </tr>\n",
       "    <tr>\n",
       "      <th>16</th>\n",
       "      <td>data/COVIDx/test/f26f795e-e989-40ce-a076-57632...</td>\n",
       "      <td>pneumonia</td>\n",
       "    </tr>\n",
       "    <tr>\n",
       "      <th>17</th>\n",
       "      <td>data/COVIDx/test/f27252da-ac5d-46b2-8df9-32e09...</td>\n",
       "      <td>pneumonia</td>\n",
       "    </tr>\n",
       "    <tr>\n",
       "      <th>18</th>\n",
       "      <td>data/COVIDx/test/f27252da-ac5d-46b2-8df9-32e09...</td>\n",
       "      <td>pneumonia</td>\n",
       "    </tr>\n",
       "    <tr>\n",
       "      <th>19</th>\n",
       "      <td>data/COVIDx/test/f27e1121-c394-4577-80c6-762f4...</td>\n",
       "      <td>pneumonia</td>\n",
       "    </tr>\n",
       "  </tbody>\n",
       "</table>\n",
       "</div>"
      ],
      "text/plain": [
       "                                                 name      label\n",
       "0   data/COVIDx/test/1.CXRCTThoraximagesofCOVID-19...      covid\n",
       "1   data/COVIDx/test/1.CXRCTThoraximagesofCOVID-19...      covid\n",
       "2   data/COVIDx/test/1.CXRCTThoraximagesofCOVID-19...      covid\n",
       "3   data/COVIDx/test/1.CXRCTThoraximagesofCOVID-19...      covid\n",
       "4   data/COVIDx/test/covid-19-pneumonia-evolution-...      covid\n",
       "5   data/COVIDx/test/53EC07C9-5CC6-4BE4-9B6F-D7B0D...      covid\n",
       "6          data/COVIDx/test/covid-19-caso-70-1-PA.png      covid\n",
       "7   data/COVIDx/test/4e43e48d52c9e2d4c6c1fb9bc1544...      covid\n",
       "8          data/COVIDx/test/covid-19-pneumonia-53.png      covid\n",
       "9   data/COVIDx/test/fff49165-b22d-4bb4-b9d1-d5d62...      covid\n",
       "10  data/COVIDx/test/SARS-10.1148rg.242035193-g04m...  pneumonia\n",
       "11  data/COVIDx/test/SARS-10.1148rg.242035193-g04m...  pneumonia\n",
       "12  data/COVIDx/test/SARS-10.1148rg.242035193-g04m...  pneumonia\n",
       "13  data/COVIDx/test/f26e5df0-bd0d-4d54-86b6-ea40c...  pneumonia\n",
       "14  data/COVIDx/test/f26ede75-cee6-4248-9219-017f3...  pneumonia\n",
       "15  data/COVIDx/test/f26f795e-e989-40ce-a076-57632...  pneumonia\n",
       "16  data/COVIDx/test/f26f795e-e989-40ce-a076-57632...  pneumonia\n",
       "17  data/COVIDx/test/f27252da-ac5d-46b2-8df9-32e09...  pneumonia\n",
       "18  data/COVIDx/test/f27252da-ac5d-46b2-8df9-32e09...  pneumonia\n",
       "19  data/COVIDx/test/f27e1121-c394-4577-80c6-762f4...  pneumonia"
      ]
     },
     "execution_count": 80,
     "metadata": {},
     "output_type": "execute_result"
    }
   ],
   "source": [
    "df_test.head(20)"
   ]
  },
  {
   "cell_type": "markdown",
   "metadata": {},
   "source": [
    "## Predict images"
   ]
  },
  {
   "cell_type": "code",
   "execution_count": 90,
   "metadata": {},
   "outputs": [],
   "source": [
    "classes = ['covid19', 'normal', 'pneumonia']\n",
    "test_images = df_test['name']\n",
    "labels = df_test['label']\n",
    "EVAL_CASES = len(labels)\n",
    "# PRED_TH = 0.9\n",
    "\n",
    "\n",
    "# convert labels to numbers to compare\n",
    "l2n = {'covid': 0, 'pneumonia': 2, 'normal': 1}\n",
    "num_labels = [l2n[l] for l in labels]\n",
    "\n",
    "# compute results\n",
    "results = {}\n",
    "predictions = []\n",
    "for f, l in zip(test_images[:EVAL_CASES], labels[:EVAL_CASES]):\n",
    "    pred = learn.predict(open_image(f))\n",
    "    # i = 0 if pred[2][0] >= PRED_TH else np.argmax(pred[2][1:].numpy()) + 1\n",
    "    i = np.argmax(pred[2].numpy())\n",
    "    # print('label:', l, pred, i)\n",
    "    results[f] = classes[i] \n",
    "    predictions.append(i)\n",
    "    \n"
   ]
  },
  {
   "cell_type": "markdown",
   "metadata": {},
   "source": [
    "## Compute stats"
   ]
  },
  {
   "cell_type": "code",
   "execution_count": 91,
   "metadata": {},
   "outputs": [
    {
     "data": {
      "text/html": [
       "<div>\n",
       "<style scoped>\n",
       "    .dataframe tbody tr th:only-of-type {\n",
       "        vertical-align: middle;\n",
       "    }\n",
       "\n",
       "    .dataframe tbody tr th {\n",
       "        vertical-align: top;\n",
       "    }\n",
       "\n",
       "    .dataframe thead th {\n",
       "        text-align: right;\n",
       "    }\n",
       "</style>\n",
       "<table border=\"1\" class=\"dataframe\">\n",
       "  <thead>\n",
       "    <tr style=\"text-align: right;\">\n",
       "      <th></th>\n",
       "      <th>class</th>\n",
       "      <th>num samples</th>\n",
       "      <th>sensitivity</th>\n",
       "      <th>precision</th>\n",
       "    </tr>\n",
       "  </thead>\n",
       "  <tbody>\n",
       "    <tr>\n",
       "      <th>0</th>\n",
       "      <td>covid19</td>\n",
       "      <td>10</td>\n",
       "      <td>0.500000</td>\n",
       "      <td>0.714286</td>\n",
       "    </tr>\n",
       "    <tr>\n",
       "      <th>1</th>\n",
       "      <td>normal</td>\n",
       "      <td>886</td>\n",
       "      <td>0.985327</td>\n",
       "      <td>0.968923</td>\n",
       "    </tr>\n",
       "    <tr>\n",
       "      <th>2</th>\n",
       "      <td>pneumonia</td>\n",
       "      <td>959</td>\n",
       "      <td>0.969760</td>\n",
       "      <td>0.982049</td>\n",
       "    </tr>\n",
       "  </tbody>\n",
       "</table>\n",
       "</div>"
      ],
      "text/plain": [
       "       class  num samples  sensitivity  precision\n",
       "0    covid19           10     0.500000   0.714286\n",
       "1     normal          886     0.985327   0.968923\n",
       "2  pneumonia          959     0.969760   0.982049"
      ]
     },
     "execution_count": 91,
     "metadata": {},
     "output_type": "execute_result"
    },
    {
     "data": {
      "image/png": "[encoded data removed]",
      "text/plain": [
       "<Figure size 432x288 with 2 Axes>"
      ]
     },
     "metadata": {
      "needs_background": "light"
     },
     "output_type": "display_data"
    }
   ],
   "source": [
    "cm = confusion_matrix(num_labels[:EVAL_CASES], predictions, labels = [0, 1, 2])\n",
    "ax = plt.subplot()\n",
    "sns.set_color_codes(\"pastel\")\n",
    "sns.heatmap(cm, annot=True, ax = ax, cmap=\"YlGnBu\")\n",
    "ax.set_xlabel('Predicted');ax.set_ylabel('Actual'); \n",
    "ax.set_title('Confusion Matrix'); \n",
    "ax.xaxis.set_ticklabels(classes); ax.yaxis.set_ticklabels(classes);\n",
    "\n",
    "\n",
    "# count elements per class\n",
    "elements_x_class = [np.sum(num_labels[:EVAL_CASES] == (np.ones(EVAL_CASES) * l))\n",
    "                    for l in range(3)]\n",
    "\n",
    "# global accuracy\n",
    "g_acc = accuracy_score(num_labels[:EVAL_CASES], predictions)\n",
    "# sensitivity x clas\n",
    "recall_scores = recall_score(num_labels[:EVAL_CASES], predictions, average=None)\n",
    "# precision x class\n",
    "precision_scores = precision_score(num_labels[:EVAL_CASES], predictions, average=None)\n",
    "d_r = pd.DataFrame({'class': classes, \n",
    "                    'num samples': elements_x_class, \n",
    "                    'sensitivity': recall_scores, \n",
    "                    'precision': precision_scores})\n",
    "d_r.head()"
   ]
  }
 ],
 "metadata": {
  "accelerator": "GPU",
  "colab": {
   "authorship_tag": "ABX9TyP5bVIHFYCIyYBvI2lOz9C4",
   "include_colab_link": true,
   "name": "NCOV19 X-ray Classifier.ipynb",
   "provenance": null
  },
  "kernelspec": {
   "display_name": "Python 3",
   "language": "python",
   "name": "python3"
  },
  "language_info": {
   "codemirror_mode": {
    "name": "ipython",
    "version": 3
   },
   "file_extension": ".py",
   "mimetype": "text/x-python",
   "name": "python",
   "nbconvert_exporter": "python",
   "pygments_lexer": "ipython3",
   "version": "3.7.5"
  },
  "name": "COVID-ResNet.ipynb"
 },
 "nbformat": 4,
 "nbformat_minor": 4
}
