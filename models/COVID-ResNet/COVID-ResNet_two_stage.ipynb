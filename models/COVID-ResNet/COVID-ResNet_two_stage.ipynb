{
 "cells": [
  {
   "cell_type": "markdown",
   "metadata": {
    "colab_type": "text",
    "ein.tags": "worksheet-0",
    "id": "3e7geXMFyndA",
    "slideshow": {
     "slide_type": "-"
    }
   },
   "source": [
    "# Two stage COVID-ResNet \n",
    "\n",
    "In this notebook, we work on a two stage supervised classifier using the `Fast.ai` library. \n",
    "\n",
    "During the first stage, the network is trained to classify between `Pneumonia` and `normal` using the original `COVIDx` dataset. Once the classifier reaches a decent accuracy classifying between the two classes, then we fine-tuned only between `covid` and `other`, where `other` contains both samples from `pneumonia` and `normal`. "
   ]
  },
  {
   "cell_type": "code",
   "execution_count": null,
   "metadata": {
    "autoscroll": false,
    "colab": null,
    "colab_type": "code",
    "collapsed": false,
    "ein.hycell": false,
    "ein.tags": "worksheet-0",
    "id": "NLm4gvRD_9Te",
    "jupyter": {
     "outputs_hidden": false
    },
    "slideshow": {
     "slide_type": "-"
    }
   },
   "outputs": [],
   "source": [
    "import pandas as pd\n",
    "import numpy as np\n",
    "import os, shutil\n",
    "from fastai.vision import *\n",
    "from fastai.widgets import ClassConfusion\n",
    "from sklearn.metrics import confusion_matrix, roc_curve, auc\n",
    "from sklearn.metrics import accuracy_score, precision_score, recall_score\n",
    "import seaborn as sns\n",
    "import matplotlib.pyplot as plt\n",
    "#from model_utils import custom_path_load, custom_path_save"
   ]
  },
  {
   "cell_type": "markdown",
   "metadata": {
    "ein.tags": "worksheet-0",
    "slideshow": {
     "slide_type": "-"
    }
   },
   "source": [
    "# Data\n",
    "\n",
    "We use two different datasets:\n",
    "\n",
    "* https://github.com/ieee8023/covid-chestxray-dataset, containing 99 COVID, 17 bacterial and 11 viral chest x-ray images. \n",
    "\n",
    "*  https://www.kaggle.com/c/rsna-pneumonia-detection-challenge containing 1345 viral and 2530 bacterial images.  \n",
    "\n",
    "\n",
    "Images have to be preprocessed a-priori using this attached [noteboook](./data_discovery.ipynb).\n",
    "\n",
    "Processed images are stored in `data/COVIDx`.  We import the training and testing `Dataframes` to select the correspondent labels. "
   ]
  },
  {
   "cell_type": "code",
   "execution_count": 82,
   "metadata": {
    "autoscroll": false,
    "colab": {
     "base_uri": "https://localhost:8080/",
     "height": 582
    },
    "colab_type": "code",
    "collapsed": false,
    "ein.hycell": false,
    "ein.tags": "worksheet-0",
    "id": "oL6USZoeV9Ol",
    "jupyter": {
     "outputs_hidden": false
    },
    "outputId": "7959513d-4f1f-4ca4-9ff8-9da21ff3a46e",
    "slideshow": {
     "slide_type": "-"
    }
   },
   "outputs": [],
   "source": [
    "train_path = 'data/COVIDx/train'\n",
    "df_train = pd.read_pickle('covidX_train.pkl')\n",
    "df_test = pd.read_pickle('covidX_test.pkl')"
   ]
  },
  {
   "cell_type": "markdown",
   "metadata": {
    "ein.tags": "worksheet-0",
    "slideshow": {
     "slide_type": "-"
    }
   },
   "source": [
    "# 1st Stage training\n",
    "----------------\n",
    "\n",
    "\n",
    "Using a `resnet50` model. Trying to differentiate between `pnenumonia` and `normal`. Select these classes from the dataset.\n"
   ]
  },
  {
   "cell_type": "markdown",
   "metadata": {},
   "source": [
    "## Dataset creation"
   ]
  },
  {
   "cell_type": "code",
   "execution_count": null,
   "metadata": {},
   "outputs": [],
   "source": [
    "rsna_samples = np.invert(df_train['label'] == 'covid')\n",
    "df_train_rsna = df_train[rsna_samples]\n",
    "df_train_rsna.describe()"
   ]
  },
  {
   "cell_type": "markdown",
   "metadata": {
    "ein.tags": "worksheet-0",
    "slideshow": {
     "slide_type": "-"
    }
   },
   "source": [
    "## Data augmentation\n",
    "\n",
    "Data augmentation helps in creating newer examples by applying different transformation randomly to the available training images. In this work, the transformation that we used included vertical flips of the training images, random rotation of the images (maximum rotation angle was 15 degree), and lighting conditions. Data augmentation increases the size of input training data along with the model regularization and hence improving generalization of the training model. Only the training data was augmented, and the test time augmentation was not explored."
   ]
  },
  {
   "cell_type": "code",
   "execution_count": null,
   "metadata": {
    "autoscroll": false,
    "collapsed": false,
    "ein.hycell": false,
    "ein.tags": "worksheet-0",
    "jupyter": {
     "outputs_hidden": false
    },
    "slideshow": {
     "slide_type": "-"
    }
   },
   "outputs": [],
   "source": [
    "transforms = get_transforms(do_flip=True, \n",
    "                            flip_vert=False,\n",
    "                            max_rotate=15)"
   ]
  },
  {
   "cell_type": "markdown",
   "metadata": {
    "ein.tags": "worksheet-0",
    "slideshow": {
     "slide_type": "-"
    }
   },
   "source": [
    "## Model utils"
   ]
  },
  {
   "cell_type": "code",
   "execution_count": null,
   "metadata": {
    "autoscroll": false,
    "cellView": "form",
    "colab": null,
    "colab_type": "code",
    "collapsed": false,
    "ein.hycell": false,
    "ein.tags": "worksheet-0",
    "id": "CZY3yItbg2Gn",
    "jupyter": {
     "outputs_hidden": false
    },
    "slideshow": {
     "slide_type": "-"
    }
   },
   "outputs": [],
   "source": [
    "model_name = 'resnet_covidx_pneumonia'\n",
    "\n",
    "model_path = os.path.join('models', model_name)\n",
    "\n",
    "# create the models folder\n",
    "if os.path.exists('models') is False:\n",
    "    os.mkdir('models')\n",
    "\n",
    "# create the current model folder\n",
    "if os.path.exists(model_path) is False:\n",
    "    os.mkdir(model_path)\n",
    "   \n",
    "\n",
    "def custom_path_save(self, \n",
    "                     name:PathOrStr, \n",
    "                     path='models', \n",
    "                     return_path:bool=False, \n",
    "                     with_opt:bool=True):\n",
    "    '''\n",
    "    Save model and optimizer state (if `with_opt`) \n",
    "    with `name` to `self.model_dir`.\"\n",
    "    '''\n",
    "    if path == '': \n",
    "        path = self.path/self.model_dir/f'{name}.pth'\n",
    "    else: \n",
    "        path = f'{path}/{name}.pth'\n",
    "    if not with_opt: \n",
    "        state = get_model(self.model).state_dict()\n",
    "    else: \n",
    "        state = {'model': get_model(self.model).state_dict(), 'opt':self.opt.state_dict()}\n",
    "    torch.save(state, path)\n",
    "    \n",
    "    if return_path: \n",
    "        return path\n",
    "\n",
    "def custom_path_load(self, \n",
    "                     name:PathOrStr, \n",
    "                     path='models', \n",
    "                     device:torch.device=None, \n",
    "                     strict:bool=True, \n",
    "                     with_opt:bool=None,\n",
    "                     purge=False):\n",
    "    \"\"\"\n",
    "    Load model and optimizer state (if `with_opt`) `name` \n",
    "    from `self.model_dir` using `device`.\"\n",
    "\n",
    "    \"\"\"\n",
    "    if device is None: \n",
    "        device = self.data.device\n",
    "    if path=='': \n",
    "        path = self.path/self.model_dir/f'{name}.pth'\n",
    "    else: \n",
    "        path = f'{path}/{name}.pth'\n",
    "    \n",
    "    state = torch.load(path, map_location=device) \n",
    "    if set(state.keys()) == {'model', 'opt'}:\n",
    "        get_model(self.model).load_state_dict(state['model'], strict=strict)\n",
    "        if ifnone(with_opt,True):\n",
    "            if not hasattr(self, 'opt'): \n",
    "                opt = self.create_opt(defaults.lr, self.wd)\n",
    "            try:    \n",
    "                self.opt.load_state_dict(state['opt'])\n",
    "            except: \n",
    "                pass\n",
    "    else:\n",
    "        if with_opt: \n",
    "            warn(\"Saved filed doesn't contain an optimizer state.\")\n",
    "        get_model(self.model).load_state_dict(state, strict=strict)\n",
    "    return self"
   ]
  },
  {
   "cell_type": "code",
   "execution_count": null,
   "metadata": {
    "autoscroll": false,
    "cellView": "form",
    "colab": null,
    "colab_type": "code",
    "collapsed": false,
    "ein.hycell": false,
    "ein.tags": "worksheet-0",
    "id": "CZY3yItbg2Gn",
    "jupyter": {
     "outputs_hidden": false
    },
    "slideshow": {
     "slide_type": "-"
    }
   },
   "outputs": [],
   "source": [
    "model_name = 'resnet_covidx_pneumonia'\n",
    "\n",
    "model_path = os.path.join('models', model_name)\n",
    "\n",
    "# create the models folder\n",
    "if os.path.exists('models') is False:\n",
    "    os.mkdir('models')\n",
    "\n",
    "# create the current model folder\n",
    "if os.path.exists(model_path) is False:\n",
    "    os.mkdir(model_path)\n",
    "   \n",
    "\n",
    "def custom_path_save(self, \n",
    "                     name:PathOrStr, \n",
    "                     path='models', \n",
    "                     return_path:bool=False, \n",
    "                     with_opt:bool=True):\n",
    "    '''\n",
    "    Save model and optimizer state (if `with_opt`) \n",
    "    with `name` to `self.model_dir`.\"\n",
    "    '''\n",
    "    if path == '': \n",
    "        path = self.path/self.model_dir/f'{name}.pth'\n",
    "    else: \n",
    "        path = f'{path}/{name}.pth'\n",
    "    if not with_opt: \n",
    "        state = get_model(self.model).state_dict()\n",
    "    else: \n",
    "        state = {'model': get_model(self.model).state_dict(), 'opt':self.opt.state_dict()}\n",
    "    torch.save(state, path)\n",
    "    \n",
    "    if return_path: \n",
    "        return path\n",
    "\n",
    "def custom_path_load(self, \n",
    "                     name:PathOrStr, \n",
    "                     path='models', \n",
    "                     device:torch.device=None, \n",
    "                     strict:bool=True, \n",
    "                     with_opt:bool=None,\n",
    "                     purge=False):\n",
    "    \"\"\"\n",
    "    Load model and optimizer state (if `with_opt`) `name` \n",
    "    from `self.model_dir` using `device`.\"\n",
    "\n",
    "    \"\"\"\n",
    "    if device is None: \n",
    "        device = self.data.device\n",
    "    if path=='': \n",
    "        path = self.path/self.model_dir/f'{name}.pth'\n",
    "    else: \n",
    "        path = f'{path}/{name}.pth'\n",
    "    \n",
    "    state = torch.load(path, map_location=device) \n",
    "    if set(state.keys()) == {'model', 'opt'}:\n",
    "        get_model(self.model).load_state_dict(state['model'], strict=strict)\n",
    "        if ifnone(with_opt,True):\n",
    "            if not hasattr(self, 'opt'): \n",
    "                opt = self.create_opt(defaults.lr, self.wd)\n",
    "            try:    \n",
    "                self.opt.load_state_dict(state['opt'])\n",
    "            except: \n",
    "                pass\n",
    "    else:\n",
    "        if with_opt: \n",
    "            warn(\"Saved filed doesn't contain an optimizer state.\")\n",
    "        get_model(self.model).load_state_dict(state, strict=strict)\n",
    "    return self"
   ]
  },
  {
   "cell_type": "markdown",
   "metadata": {},
   "source": [
    "## Model creation"
   ]
  },
  {
   "cell_type": "code",
   "execution_count": null,
   "metadata": {
    "autoscroll": false,
    "collapsed": false,
    "ein.hycell": false,
    "ein.tags": "worksheet-0",
    "jupyter": {
     "outputs_hidden": false
    },
    "slideshow": {
     "slide_type": "-"
    }
   },
   "outputs": [],
   "source": [
    "data = ImageDataBunch.from_df(path='.', \n",
    "                              df=df_train_rsna,\n",
    "                              valid_pct=0.25,\n",
    "                              test=None,\n",
    "                              ds_tfms=transforms, \n",
    "                              bs=32, \n",
    "                              size=256, \n",
    "                              num_workers=8).normalize(imagenet_stats)\n",
    "\n",
    "#show size of our datasets\n",
    "print(\"TRAIN:\", len(data.train_ds),\n",
    "      \"VALIDATION:\", len(data.valid_ds))\n",
    "\n",
    "precision = Precision()\n",
    "AUC = AUROC()\n",
    "learn = cnn_learner(data, models.resnet50, metrics=(accuracy, precision, error_rate, AUC)) \n",
    "\n",
    "# data.show_batch(rows=3, figsize=(10,10))"
   ]
  },
  {
   "cell_type": "markdown",
   "metadata": {},
   "source": [
    "### 1st round"
   ]
  },
  {
   "cell_type": "code",
   "execution_count": null,
   "metadata": {
    "autoscroll": false,
    "colab_type": "text",
    "collapsed": false,
    "ein.hycell": false,
    "ein.tags": "worksheet-0",
    "id": "U0Jh0XPsevg3",
    "jupyter": {
     "outputs_hidden": false
    },
    "slideshow": {
     "slide_type": "-"
    }
   },
   "outputs": [],
   "source": [
    "learn.freeze()\n",
    "learn.fit_one_cycle(3, max_lr=1e-3)"
   ]
  },
  {
   "cell_type": "code",
   "execution_count": null,
   "metadata": {
    "autoscroll": false,
    "collapsed": false,
    "ein.hycell": false,
    "ein.tags": "worksheet-0",
    "jupyter": {
     "outputs_hidden": false
    },
    "slideshow": {
     "slide_type": "-"
    }
   },
   "outputs": [],
   "source": [
    "# find the best learning rate with discriminataive learning rate\n",
    "learn.unfreeze()\n",
    "learn.lr_find()\n",
    "learn.recorder.plot()"
   ]
  },
  {
   "cell_type": "code",
   "execution_count": null,
   "metadata": {
    "autoscroll": false,
    "collapsed": false,
    "ein.hycell": false,
    "ein.tags": "worksheet-0",
    "jupyter": {
     "outputs_hidden": false
    },
    "slideshow": {
     "slide_type": "-"
    }
   },
   "outputs": [],
   "source": [
    "learn.fit_one_cycle(10, max_lr=slice(1e-06,1e-04))\n",
    "learn.save(os.path.join(model_name, model_name + '_stage1'))"
   ]
  },
  {
   "cell_type": "markdown",
   "metadata": {},
   "source": [
    "### 2nd round"
   ]
  },
  {
   "cell_type": "code",
   "execution_count": null,
   "metadata": {},
   "outputs": [],
   "source": [
    "learn.load(os.path.join(model_name, model_name + '_stage1'))\n",
    "learn.unfreeze()\n",
    "learn.lr_find()\n",
    "learn.recorder.plot()"
   ]
  },
  {
   "cell_type": "code",
   "execution_count": null,
   "metadata": {
    "scrolled": true
   },
   "outputs": [],
   "source": [
    "learn.fit_one_cycle(30, max_lr=slice(1e-06,1e-04))\n",
    "learn.save(os.path.join(model_name, model_name + '_stage2'))"
   ]
  },
  {
   "cell_type": "markdown",
   "metadata": {},
   "source": [
    "### 3rd round"
   ]
  },
  {
   "cell_type": "code",
   "execution_count": 47,
   "metadata": {},
   "outputs": [
    {
     "data": {
      "text/html": [
       "\n",
       "    <div>\n",
       "        <style>\n",
       "            /* Turns off some styling */\n",
       "            progress {\n",
       "                /* gets rid of default border in Firefox and Opera. */\n",
       "                border: none;\n",
       "                /* Needs to be in here for Safari polyfill so background images work as expected. */\n",
       "                background-size: auto;\n",
       "            }\n",
       "            .progress-bar-interrupted, .progress-bar-interrupted::-webkit-progress-bar {\n",
       "                background: #F44336;\n",
       "            }\n",
       "        </style>\n",
       "      <progress value='0' class='' max='1', style='width:300px; height:20px; vertical-align: middle;'></progress>\n",
       "      0.00% [0/1 00:00<00:00]\n",
       "    </div>\n",
       "    \n",
       "<table border=\"1\" class=\"dataframe\">\n",
       "  <thead>\n",
       "    <tr style=\"text-align: left;\">\n",
       "      <th>epoch</th>\n",
       "      <th>train_loss</th>\n",
       "      <th>valid_loss</th>\n",
       "      <th>accuracy</th>\n",
       "      <th>precision</th>\n",
       "      <th>error_rate</th>\n",
       "      <th>auroc</th>\n",
       "      <th>time</th>\n",
       "    </tr>\n",
       "  </thead>\n",
       "  <tbody>\n",
       "  </tbody>\n",
       "</table><p>\n",
       "\n",
       "    <div>\n",
       "        <style>\n",
       "            /* Turns off some styling */\n",
       "            progress {\n",
       "                /* gets rid of default border in Firefox and Opera. */\n",
       "                border: none;\n",
       "                /* Needs to be in here for Safari polyfill so background images work as expected. */\n",
       "                background-size: auto;\n",
       "            }\n",
       "            .progress-bar-interrupted, .progress-bar-interrupted::-webkit-progress-bar {\n",
       "                background: #F44336;\n",
       "            }\n",
       "        </style>\n",
       "      <progress value='43' class='' max='388', style='width:300px; height:20px; vertical-align: middle;'></progress>\n",
       "      11.08% [43/388 00:09<01:14 0.0468]\n",
       "    </div>\n",
       "    "
      ],
      "text/plain": [
       "<IPython.core.display.HTML object>"
      ]
     },
     "metadata": {},
     "output_type": "display_data"
    },
    {
     "name": "stdout",
     "output_type": "stream",
     "text": [
      "LR Finder is complete, type {learner_name}.recorder.plot() to see the graph.\n"
     ]
    },
    {
     "data": {
      "image/png": "[encoded data removed]",
      "text/plain": [
       "<Figure size 432x288 with 1 Axes>"
      ]
     },
     "metadata": {
      "needs_background": "light"
     },
     "output_type": "display_data"
    }
   ],
   "source": [
    "learn.lr_find()\n",
    "learn.recorder.plot()"
   ]
  },
  {
   "cell_type": "code",
   "execution_count": 48,
   "metadata": {},
   "outputs": [
    {
     "data": {
      "text/html": [
       "<table border=\"1\" class=\"dataframe\">\n",
       "  <thead>\n",
       "    <tr style=\"text-align: left;\">\n",
       "      <th>epoch</th>\n",
       "      <th>train_loss</th>\n",
       "      <th>valid_loss</th>\n",
       "      <th>accuracy</th>\n",
       "      <th>precision</th>\n",
       "      <th>error_rate</th>\n",
       "      <th>auroc</th>\n",
       "      <th>time</th>\n",
       "    </tr>\n",
       "  </thead>\n",
       "  <tbody>\n",
       "    <tr>\n",
       "      <td>0</td>\n",
       "      <td>0.023397</td>\n",
       "      <td>0.171888</td>\n",
       "      <td>0.959016</td>\n",
       "      <td>0.958853</td>\n",
       "      <td>0.040984</td>\n",
       "      <td>0.989485</td>\n",
       "      <td>01:30</td>\n",
       "    </tr>\n",
       "    <tr>\n",
       "      <td>1</td>\n",
       "      <td>0.018327</td>\n",
       "      <td>0.183378</td>\n",
       "      <td>0.958534</td>\n",
       "      <td>0.962238</td>\n",
       "      <td>0.041466</td>\n",
       "      <td>0.989019</td>\n",
       "      <td>01:30</td>\n",
       "    </tr>\n",
       "    <tr>\n",
       "      <td>2</td>\n",
       "      <td>0.019146</td>\n",
       "      <td>0.185115</td>\n",
       "      <td>0.958775</td>\n",
       "      <td>0.966604</td>\n",
       "      <td>0.041225</td>\n",
       "      <td>0.988721</td>\n",
       "      <td>01:30</td>\n",
       "    </tr>\n",
       "    <tr>\n",
       "      <td>3</td>\n",
       "      <td>0.022104</td>\n",
       "      <td>0.179938</td>\n",
       "      <td>0.957329</td>\n",
       "      <td>0.960428</td>\n",
       "      <td>0.042671</td>\n",
       "      <td>0.988819</td>\n",
       "      <td>01:30</td>\n",
       "    </tr>\n",
       "    <tr>\n",
       "      <td>4</td>\n",
       "      <td>0.026562</td>\n",
       "      <td>0.178499</td>\n",
       "      <td>0.956847</td>\n",
       "      <td>0.954462</td>\n",
       "      <td>0.043153</td>\n",
       "      <td>0.989341</td>\n",
       "      <td>01:31</td>\n",
       "    </tr>\n",
       "    <tr>\n",
       "      <td>5</td>\n",
       "      <td>0.018024</td>\n",
       "      <td>0.182954</td>\n",
       "      <td>0.959016</td>\n",
       "      <td>0.955903</td>\n",
       "      <td>0.040984</td>\n",
       "      <td>0.989130</td>\n",
       "      <td>01:30</td>\n",
       "    </tr>\n",
       "    <tr>\n",
       "      <td>6</td>\n",
       "      <td>0.018584</td>\n",
       "      <td>0.190966</td>\n",
       "      <td>0.958293</td>\n",
       "      <td>0.959647</td>\n",
       "      <td>0.041707</td>\n",
       "      <td>0.988471</td>\n",
       "      <td>01:31</td>\n",
       "    </tr>\n",
       "    <tr>\n",
       "      <td>7</td>\n",
       "      <td>0.023372</td>\n",
       "      <td>0.189547</td>\n",
       "      <td>0.957329</td>\n",
       "      <td>0.959572</td>\n",
       "      <td>0.042671</td>\n",
       "      <td>0.988853</td>\n",
       "      <td>01:30</td>\n",
       "    </tr>\n",
       "    <tr>\n",
       "      <td>8</td>\n",
       "      <td>0.015537</td>\n",
       "      <td>0.188279</td>\n",
       "      <td>0.955882</td>\n",
       "      <td>0.958178</td>\n",
       "      <td>0.044118</td>\n",
       "      <td>0.988882</td>\n",
       "      <td>01:30</td>\n",
       "    </tr>\n",
       "    <tr>\n",
       "      <td>9</td>\n",
       "      <td>0.014071</td>\n",
       "      <td>0.189390</td>\n",
       "      <td>0.957088</td>\n",
       "      <td>0.962132</td>\n",
       "      <td>0.042912</td>\n",
       "      <td>0.988862</td>\n",
       "      <td>01:30</td>\n",
       "    </tr>\n",
       "  </tbody>\n",
       "</table>"
      ],
      "text/plain": [
       "<IPython.core.display.HTML object>"
      ]
     },
     "metadata": {},
     "output_type": "display_data"
    }
   ],
   "source": [
    "learn.fit_one_cycle(10, max_lr=slice(1e-06,1e-05))\n",
    "learn.save(os.path.join(model_name, model_name + '_stage3'))"
   ]
  },
  {
   "cell_type": "markdown",
   "metadata": {},
   "source": [
    "### Show classification accuracy"
   ]
  },
  {
   "cell_type": "code",
   "execution_count": 49,
   "metadata": {},
   "outputs": [
    {
     "data": {
      "text/html": [],
      "text/plain": [
       "<IPython.core.display.HTML object>"
      ]
     },
     "metadata": {},
     "output_type": "display_data"
    },
    {
     "data": {
      "image/png": "[encoded data removed]",
      "text/plain": [
       "<Figure size 432x288 with 1 Axes>"
      ]
     },
     "metadata": {
      "needs_background": "light"
     },
     "output_type": "display_data"
    }
   ],
   "source": [
    "interp = ClassificationInterpretation.from_learner(learn)\n",
    "interp.plot_confusion_matrix()"
   ]
  },
  {
   "cell_type": "markdown",
   "metadata": {},
   "source": [
    "## Prediction on test set\n",
    "\n",
    "Test images are in `df_test` dataframe removing `covid` images.  We evaluate the performance of the method in terms of the sensitivity and predictive positive value. "
   ]
  },
  {
   "cell_type": "code",
   "execution_count": 50,
   "metadata": {},
   "outputs": [
    {
     "data": {
      "text/html": [
       "<div>\n",
       "<style scoped>\n",
       "    .dataframe tbody tr th:only-of-type {\n",
       "        vertical-align: middle;\n",
       "    }\n",
       "\n",
       "    .dataframe tbody tr th {\n",
       "        vertical-align: top;\n",
       "    }\n",
       "\n",
       "    .dataframe thead th {\n",
       "        text-align: right;\n",
       "    }\n",
       "</style>\n",
       "<table border=\"1\" class=\"dataframe\">\n",
       "  <thead>\n",
       "    <tr style=\"text-align: right;\">\n",
       "      <th></th>\n",
       "      <th>name</th>\n",
       "      <th>label</th>\n",
       "    </tr>\n",
       "  </thead>\n",
       "  <tbody>\n",
       "    <tr>\n",
       "      <th>count</th>\n",
       "      <td>1846</td>\n",
       "      <td>1846</td>\n",
       "    </tr>\n",
       "    <tr>\n",
       "      <th>unique</th>\n",
       "      <td>1480</td>\n",
       "      <td>2</td>\n",
       "    </tr>\n",
       "    <tr>\n",
       "      <th>top</th>\n",
       "      <td>data/COVIDx/test/1c44e0a4-4612-438f-9a83-8d5bf...</td>\n",
       "      <td>pneumonia</td>\n",
       "    </tr>\n",
       "    <tr>\n",
       "      <th>freq</th>\n",
       "      <td>4</td>\n",
       "      <td>960</td>\n",
       "    </tr>\n",
       "  </tbody>\n",
       "</table>\n",
       "</div>"
      ],
      "text/plain": [
       "                                                     name      label\n",
       "count                                                1846       1846\n",
       "unique                                               1480          2\n",
       "top     data/COVIDx/test/1c44e0a4-4612-438f-9a83-8d5bf...  pneumonia\n",
       "freq                                                    4        960"
      ]
     },
     "execution_count": 50,
     "metadata": {},
     "output_type": "execute_result"
    }
   ],
   "source": [
    "rsna_samples = np.invert(df_test['label'] == 'covid')\n",
    "df_test_rsna = df_test[rsna_samples]\n",
    "df_test_rsna.describe()"
   ]
  },
  {
   "cell_type": "markdown",
   "metadata": {},
   "source": [
    "### Predict images"
   ]
  },
  {
   "cell_type": "code",
   "execution_count": 51,
   "metadata": {},
   "outputs": [],
   "source": [
    "classes = ['normal', 'pneumonia']\n",
    "test_images = df_test_rsna['name']\n",
    "labels = df_test_rsna['label']\n",
    "EVAL_CASES = len(labels)\n",
    "# PRED_TH = 0.9\n",
    "\n",
    "# convert labels to numbers to compare\n",
    "l2n = {'pneumonia': 1, 'normal': 0}\n",
    "num_labels = [l2n[l] for l in labels]\n",
    "\n",
    "# compute results\n",
    "results = {}\n",
    "predictions = []\n",
    "for f, l in zip(test_images[:EVAL_CASES], labels[:EVAL_CASES]):\n",
    "    pred = learn.predict(open_image(f))\n",
    "    # i = 0 if pred[2][0] >= PRED_TH else np.argmax(pred[2][1:].numpy()) + 1\n",
    "    i = np.argmax(pred[2].numpy())\n",
    "    # print('label:', l, pred, i)\n",
    "    results[f] = classes[i] \n",
    "    predictions.append(i)\n",
    "    \n"
   ]
  },
  {
   "cell_type": "markdown",
   "metadata": {},
   "source": [
    "## Compute stats"
   ]
  },
  {
   "cell_type": "code",
   "execution_count": 54,
   "metadata": {},
   "outputs": [
    {
     "data": {
      "text/html": [
       "<div>\n",
       "<style scoped>\n",
       "    .dataframe tbody tr th:only-of-type {\n",
       "        vertical-align: middle;\n",
       "    }\n",
       "\n",
       "    .dataframe tbody tr th {\n",
       "        vertical-align: top;\n",
       "    }\n",
       "\n",
       "    .dataframe thead th {\n",
       "        text-align: right;\n",
       "    }\n",
       "</style>\n",
       "<table border=\"1\" class=\"dataframe\">\n",
       "  <thead>\n",
       "    <tr style=\"text-align: right;\">\n",
       "      <th></th>\n",
       "      <th>class</th>\n",
       "      <th>num samples</th>\n",
       "      <th>sensitivity</th>\n",
       "      <th>precision</th>\n",
       "    </tr>\n",
       "  </thead>\n",
       "  <tbody>\n",
       "    <tr>\n",
       "      <th>0</th>\n",
       "      <td>normal</td>\n",
       "      <td>886</td>\n",
       "      <td>0.987585</td>\n",
       "      <td>0.955240</td>\n",
       "    </tr>\n",
       "    <tr>\n",
       "      <th>1</th>\n",
       "      <td>pneumonia</td>\n",
       "      <td>960</td>\n",
       "      <td>0.957292</td>\n",
       "      <td>0.988172</td>\n",
       "    </tr>\n",
       "  </tbody>\n",
       "</table>\n",
       "</div>"
      ],
      "text/plain": [
       "       class  num samples  sensitivity  precision\n",
       "0     normal          886     0.987585   0.955240\n",
       "1  pneumonia          960     0.957292   0.988172"
      ]
     },
     "execution_count": 54,
     "metadata": {},
     "output_type": "execute_result"
    },
    {
     "data": {
      "image/png": "[encoded data removed]",
      "text/plain": [
       "<Figure size 432x288 with 2 Axes>"
      ]
     },
     "metadata": {
      "needs_background": "light"
     },
     "output_type": "display_data"
    }
   ],
   "source": [
    "cm = confusion_matrix(num_labels[:EVAL_CASES], predictions, labels = [0, 1])\n",
    "ax = plt.subplot()\n",
    "sns.set_color_codes(\"pastel\")\n",
    "sns.heatmap(cm, annot=True, ax = ax, cmap=\"YlGnBu\")\n",
    "ax.set_xlabel('Predicted');ax.set_ylabel('Ground-truth'); \n",
    "ax.set_title('Confusion Matrix'); \n",
    "ax.xaxis.set_ticklabels(classes); ax.yaxis.set_ticklabels(classes);\n",
    "\n",
    "\n",
    "# count elements per class\n",
    "elements_x_class = [np.sum(num_labels[:EVAL_CASES] == (np.ones(EVAL_CASES) * l))\n",
    "                    for l in range(2)]\n",
    "\n",
    "# global accuracy\n",
    "g_acc = accuracy_score(num_labels[:EVAL_CASES], predictions)\n",
    "# sensitivity x clas\n",
    "recall_scores = recall_score(num_labels[:EVAL_CASES], predictions, average=None)\n",
    "# precision x class\n",
    "precision_scores = precision_score(num_labels[:EVAL_CASES], predictions, average=None)\n",
    "d_r = pd.DataFrame({'class': classes, \n",
    "                    'num samples': elements_x_class, \n",
    "                    'sensitivity': recall_scores, \n",
    "                    'precision': precision_scores})\n",
    "d_r.head()"
   ]
  },
  {
   "cell_type": "markdown",
   "metadata": {},
   "source": [
    "# Stage 2\n",
    "----------------\n",
    "\n",
    "During the second stage, we train a new classifier to differentiate between `covid` and `other` disease types. To do so, we will use the already trained model on `pneumonia vs normal` and fine tune it accordingly.\n"
   ]
  },
  {
   "cell_type": "markdown",
   "metadata": {},
   "source": [
    "## Dataset creation"
   ]
  },
  {
   "cell_type": "code",
   "execution_count": 57,
   "metadata": {},
   "outputs": [
    {
     "data": {
      "text/html": [
       "<div>\n",
       "<style scoped>\n",
       "    .dataframe tbody tr th:only-of-type {\n",
       "        vertical-align: middle;\n",
       "    }\n",
       "\n",
       "    .dataframe tbody tr th {\n",
       "        vertical-align: top;\n",
       "    }\n",
       "\n",
       "    .dataframe thead th {\n",
       "        text-align: right;\n",
       "    }\n",
       "</style>\n",
       "<table border=\"1\" class=\"dataframe\">\n",
       "  <thead>\n",
       "    <tr style=\"text-align: right;\">\n",
       "      <th></th>\n",
       "      <th>name</th>\n",
       "      <th>label</th>\n",
       "    </tr>\n",
       "  </thead>\n",
       "  <tbody>\n",
       "    <tr>\n",
       "      <th>count</th>\n",
       "      <td>297</td>\n",
       "      <td>297</td>\n",
       "    </tr>\n",
       "    <tr>\n",
       "      <th>unique</th>\n",
       "      <td>265</td>\n",
       "      <td>2</td>\n",
       "    </tr>\n",
       "    <tr>\n",
       "      <th>top</th>\n",
       "      <td>data/COVIDx/train/03a9498c-549d-4e7d-800b-e747...</td>\n",
       "      <td>other</td>\n",
       "    </tr>\n",
       "    <tr>\n",
       "      <th>freq</th>\n",
       "      <td>3</td>\n",
       "      <td>200</td>\n",
       "    </tr>\n",
       "  </tbody>\n",
       "</table>\n",
       "</div>"
      ],
      "text/plain": [
       "                                                     name  label\n",
       "count                                                 297    297\n",
       "unique                                                265      2\n",
       "top     data/COVIDx/train/03a9498c-549d-4e7d-800b-e747...  other\n",
       "freq                                                    3    200"
      ]
     },
     "execution_count": 57,
     "metadata": {},
     "output_type": "execute_result"
    }
   ],
   "source": [
    "number_samples_x_class = 100\n",
    "\n",
    "covid_samples = df_train['label'] == 'covid'\n",
    "pneumonia_samples = df_train['label'] == 'pneumonia'\n",
    "normal_samples = df_train['label'] == 'normal'\n",
    "\n",
    "# new dataset creation\n",
    "covid_df = df_train[covid_samples]\n",
    "pneumonia_df = df_train[pneumonia_samples].iloc[:number_samples_x_class]\n",
    "normal_df = df_train[normal_samples].iloc[:number_samples_x_class]\n",
    "pneumonia_df['label'] = ['other' for l in range(len(normal_df))]\n",
    "normal_df['label'] = ['other' for l in range(len(normal_df))]\n",
    "\n",
    "df_train_covid = pd.concat([covid_df, pneumonia_df, normal_df])\n",
    "df_train_covid.describe()"
   ]
  },
  {
   "cell_type": "markdown",
   "metadata": {},
   "source": [
    "## Model creation"
   ]
  },
  {
   "cell_type": "code",
   "execution_count": 71,
   "metadata": {},
   "outputs": [],
   "source": [
    "model_name = 'resnet_covidx_covid'\n",
    "# create the current model folder\n",
    "model_path = os.path.join('models', model_name)\n",
    "if os.path.exists(model_path) is False:\n",
    "    os.mkdir(model_path)"
   ]
  },
  {
   "cell_type": "code",
   "execution_count": 76,
   "metadata": {},
   "outputs": [
    {
     "name": "stdout",
     "output_type": "stream",
     "text": [
      "TRAIN: 223 VALIDATION: 74\n"
     ]
    }
   ],
   "source": [
    "data = ImageDataBunch.from_df(path='.', \n",
    "                              df=df_train_covid,\n",
    "                              valid_pct=0.25,\n",
    "                              test=None,\n",
    "                              ds_tfms=transforms, \n",
    "                              bs=32, \n",
    "                              size=256, \n",
    "                              num_workers=8).normalize(imagenet_stats)\n",
    "\n",
    "#show size of our datasets\n",
    "print(\"TRAIN:\", len(data.train_ds),\n",
    "      \"VALIDATION:\", len(data.valid_ds))\n",
    "\n",
    "precision = Precision()\n",
    "AUC = AUROC()\n",
    "learn = cnn_learner(data, models.resnet50, metrics=(accuracy, precision, error_rate, AUC)) \n",
    "\n",
    "\n",
    "#data.show_batch(rows=3, figsize=(10,10))"
   ]
  },
  {
   "cell_type": "markdown",
   "metadata": {},
   "source": [
    "### 1st round"
   ]
  },
  {
   "cell_type": "code",
   "execution_count": 77,
   "metadata": {},
   "outputs": [
    {
     "data": {
      "text/html": [
       "<table border=\"1\" class=\"dataframe\">\n",
       "  <thead>\n",
       "    <tr style=\"text-align: left;\">\n",
       "      <th>epoch</th>\n",
       "      <th>train_loss</th>\n",
       "      <th>valid_loss</th>\n",
       "      <th>accuracy</th>\n",
       "      <th>precision</th>\n",
       "      <th>error_rate</th>\n",
       "      <th>auroc</th>\n",
       "      <th>time</th>\n",
       "    </tr>\n",
       "  </thead>\n",
       "  <tbody>\n",
       "    <tr>\n",
       "      <td>0</td>\n",
       "      <td>5.275732</td>\n",
       "      <td>6.117060</td>\n",
       "      <td>0.418919</td>\n",
       "      <td>0.657143</td>\n",
       "      <td>0.581081</td>\n",
       "      <td>0.383333</td>\n",
       "      <td>00:05</td>\n",
       "    </tr>\n",
       "    <tr>\n",
       "      <td>1</td>\n",
       "      <td>4.996773</td>\n",
       "      <td>5.131682</td>\n",
       "      <td>0.432432</td>\n",
       "      <td>0.676471</td>\n",
       "      <td>0.567568</td>\n",
       "      <td>0.413889</td>\n",
       "      <td>00:05</td>\n",
       "    </tr>\n",
       "    <tr>\n",
       "      <td>2</td>\n",
       "      <td>4.403710</td>\n",
       "      <td>2.526745</td>\n",
       "      <td>0.459459</td>\n",
       "      <td>0.718750</td>\n",
       "      <td>0.540541</td>\n",
       "      <td>0.521296</td>\n",
       "      <td>00:05</td>\n",
       "    </tr>\n",
       "    <tr>\n",
       "      <td>3</td>\n",
       "      <td>3.686985</td>\n",
       "      <td>0.431502</td>\n",
       "      <td>0.797297</td>\n",
       "      <td>0.897959</td>\n",
       "      <td>0.202703</td>\n",
       "      <td>0.878704</td>\n",
       "      <td>00:05</td>\n",
       "    </tr>\n",
       "    <tr>\n",
       "      <td>4</td>\n",
       "      <td>2.944298</td>\n",
       "      <td>0.592858</td>\n",
       "      <td>0.824324</td>\n",
       "      <td>0.918367</td>\n",
       "      <td>0.175676</td>\n",
       "      <td>0.896296</td>\n",
       "      <td>00:06</td>\n",
       "    </tr>\n",
       "    <tr>\n",
       "      <td>5</td>\n",
       "      <td>2.432448</td>\n",
       "      <td>0.568009</td>\n",
       "      <td>0.837838</td>\n",
       "      <td>0.920000</td>\n",
       "      <td>0.162162</td>\n",
       "      <td>0.898148</td>\n",
       "      <td>00:05</td>\n",
       "    </tr>\n",
       "    <tr>\n",
       "      <td>6</td>\n",
       "      <td>2.039268</td>\n",
       "      <td>0.340882</td>\n",
       "      <td>0.864865</td>\n",
       "      <td>0.940000</td>\n",
       "      <td>0.135135</td>\n",
       "      <td>0.937963</td>\n",
       "      <td>00:06</td>\n",
       "    </tr>\n",
       "    <tr>\n",
       "      <td>7</td>\n",
       "      <td>1.711238</td>\n",
       "      <td>0.228709</td>\n",
       "      <td>0.891892</td>\n",
       "      <td>0.942308</td>\n",
       "      <td>0.108108</td>\n",
       "      <td>0.958333</td>\n",
       "      <td>00:06</td>\n",
       "    </tr>\n",
       "    <tr>\n",
       "      <td>8</td>\n",
       "      <td>1.451413</td>\n",
       "      <td>0.217918</td>\n",
       "      <td>0.905405</td>\n",
       "      <td>0.927273</td>\n",
       "      <td>0.094595</td>\n",
       "      <td>0.960185</td>\n",
       "      <td>00:05</td>\n",
       "    </tr>\n",
       "    <tr>\n",
       "      <td>9</td>\n",
       "      <td>1.241964</td>\n",
       "      <td>0.216251</td>\n",
       "      <td>0.918919</td>\n",
       "      <td>0.928571</td>\n",
       "      <td>0.081081</td>\n",
       "      <td>0.958333</td>\n",
       "      <td>00:05</td>\n",
       "    </tr>\n",
       "    <tr>\n",
       "      <td>10</td>\n",
       "      <td>1.069923</td>\n",
       "      <td>0.208774</td>\n",
       "      <td>0.932432</td>\n",
       "      <td>0.945455</td>\n",
       "      <td>0.067568</td>\n",
       "      <td>0.953704</td>\n",
       "      <td>00:05</td>\n",
       "    </tr>\n",
       "    <tr>\n",
       "      <td>11</td>\n",
       "      <td>0.948423</td>\n",
       "      <td>0.198377</td>\n",
       "      <td>0.932432</td>\n",
       "      <td>0.945455</td>\n",
       "      <td>0.067568</td>\n",
       "      <td>0.958333</td>\n",
       "      <td>00:06</td>\n",
       "    </tr>\n",
       "    <tr>\n",
       "      <td>12</td>\n",
       "      <td>0.829142</td>\n",
       "      <td>0.195261</td>\n",
       "      <td>0.945946</td>\n",
       "      <td>0.946429</td>\n",
       "      <td>0.054054</td>\n",
       "      <td>0.961111</td>\n",
       "      <td>00:05</td>\n",
       "    </tr>\n",
       "    <tr>\n",
       "      <td>13</td>\n",
       "      <td>0.726623</td>\n",
       "      <td>0.191263</td>\n",
       "      <td>0.945946</td>\n",
       "      <td>0.946429</td>\n",
       "      <td>0.054054</td>\n",
       "      <td>0.965741</td>\n",
       "      <td>00:05</td>\n",
       "    </tr>\n",
       "    <tr>\n",
       "      <td>14</td>\n",
       "      <td>0.640293</td>\n",
       "      <td>0.182332</td>\n",
       "      <td>0.932432</td>\n",
       "      <td>0.945455</td>\n",
       "      <td>0.067568</td>\n",
       "      <td>0.970370</td>\n",
       "      <td>00:06</td>\n",
       "    </tr>\n",
       "    <tr>\n",
       "      <td>15</td>\n",
       "      <td>0.564434</td>\n",
       "      <td>0.188466</td>\n",
       "      <td>0.932432</td>\n",
       "      <td>0.945455</td>\n",
       "      <td>0.067568</td>\n",
       "      <td>0.970370</td>\n",
       "      <td>00:06</td>\n",
       "    </tr>\n",
       "    <tr>\n",
       "      <td>16</td>\n",
       "      <td>0.502780</td>\n",
       "      <td>0.188341</td>\n",
       "      <td>0.945946</td>\n",
       "      <td>0.946429</td>\n",
       "      <td>0.054054</td>\n",
       "      <td>0.971296</td>\n",
       "      <td>00:06</td>\n",
       "    </tr>\n",
       "    <tr>\n",
       "      <td>17</td>\n",
       "      <td>0.450646</td>\n",
       "      <td>0.181354</td>\n",
       "      <td>0.945946</td>\n",
       "      <td>0.946429</td>\n",
       "      <td>0.054054</td>\n",
       "      <td>0.975000</td>\n",
       "      <td>00:05</td>\n",
       "    </tr>\n",
       "    <tr>\n",
       "      <td>18</td>\n",
       "      <td>0.407555</td>\n",
       "      <td>0.183506</td>\n",
       "      <td>0.945946</td>\n",
       "      <td>0.946429</td>\n",
       "      <td>0.054054</td>\n",
       "      <td>0.974074</td>\n",
       "      <td>00:06</td>\n",
       "    </tr>\n",
       "    <tr>\n",
       "      <td>19</td>\n",
       "      <td>0.367786</td>\n",
       "      <td>0.188198</td>\n",
       "      <td>0.932432</td>\n",
       "      <td>0.945455</td>\n",
       "      <td>0.067568</td>\n",
       "      <td>0.975000</td>\n",
       "      <td>00:05</td>\n",
       "    </tr>\n",
       "    <tr>\n",
       "      <td>20</td>\n",
       "      <td>0.329054</td>\n",
       "      <td>0.192976</td>\n",
       "      <td>0.932432</td>\n",
       "      <td>0.945455</td>\n",
       "      <td>0.067568</td>\n",
       "      <td>0.972222</td>\n",
       "      <td>00:05</td>\n",
       "    </tr>\n",
       "    <tr>\n",
       "      <td>21</td>\n",
       "      <td>0.302296</td>\n",
       "      <td>0.195480</td>\n",
       "      <td>0.918919</td>\n",
       "      <td>0.928571</td>\n",
       "      <td>0.081081</td>\n",
       "      <td>0.972222</td>\n",
       "      <td>00:06</td>\n",
       "    </tr>\n",
       "    <tr>\n",
       "      <td>22</td>\n",
       "      <td>0.276938</td>\n",
       "      <td>0.196869</td>\n",
       "      <td>0.959459</td>\n",
       "      <td>0.963636</td>\n",
       "      <td>0.040541</td>\n",
       "      <td>0.973148</td>\n",
       "      <td>00:06</td>\n",
       "    </tr>\n",
       "    <tr>\n",
       "      <td>23</td>\n",
       "      <td>0.250620</td>\n",
       "      <td>0.191495</td>\n",
       "      <td>0.959459</td>\n",
       "      <td>0.963636</td>\n",
       "      <td>0.040541</td>\n",
       "      <td>0.974074</td>\n",
       "      <td>00:06</td>\n",
       "    </tr>\n",
       "    <tr>\n",
       "      <td>24</td>\n",
       "      <td>0.226701</td>\n",
       "      <td>0.193933</td>\n",
       "      <td>0.959459</td>\n",
       "      <td>0.963636</td>\n",
       "      <td>0.040541</td>\n",
       "      <td>0.973148</td>\n",
       "      <td>00:06</td>\n",
       "    </tr>\n",
       "    <tr>\n",
       "      <td>25</td>\n",
       "      <td>0.205384</td>\n",
       "      <td>0.191940</td>\n",
       "      <td>0.959459</td>\n",
       "      <td>0.963636</td>\n",
       "      <td>0.040541</td>\n",
       "      <td>0.973148</td>\n",
       "      <td>00:06</td>\n",
       "    </tr>\n",
       "    <tr>\n",
       "      <td>26</td>\n",
       "      <td>0.188133</td>\n",
       "      <td>0.193215</td>\n",
       "      <td>0.945946</td>\n",
       "      <td>0.946429</td>\n",
       "      <td>0.054054</td>\n",
       "      <td>0.972222</td>\n",
       "      <td>00:05</td>\n",
       "    </tr>\n",
       "    <tr>\n",
       "      <td>27</td>\n",
       "      <td>0.171852</td>\n",
       "      <td>0.196277</td>\n",
       "      <td>0.945946</td>\n",
       "      <td>0.946429</td>\n",
       "      <td>0.054054</td>\n",
       "      <td>0.970370</td>\n",
       "      <td>00:05</td>\n",
       "    </tr>\n",
       "    <tr>\n",
       "      <td>28</td>\n",
       "      <td>0.157588</td>\n",
       "      <td>0.193242</td>\n",
       "      <td>0.959459</td>\n",
       "      <td>0.963636</td>\n",
       "      <td>0.040541</td>\n",
       "      <td>0.975000</td>\n",
       "      <td>00:06</td>\n",
       "    </tr>\n",
       "    <tr>\n",
       "      <td>29</td>\n",
       "      <td>0.145555</td>\n",
       "      <td>0.196671</td>\n",
       "      <td>0.945946</td>\n",
       "      <td>0.946429</td>\n",
       "      <td>0.054054</td>\n",
       "      <td>0.973148</td>\n",
       "      <td>00:05</td>\n",
       "    </tr>\n",
       "  </tbody>\n",
       "</table>"
      ],
      "text/plain": [
       "<IPython.core.display.HTML object>"
      ]
     },
     "metadata": {},
     "output_type": "display_data"
    }
   ],
   "source": [
    "learn.load(os.path.join('resnet_covidx_pneumonia','resnet_covidx_pneumonia_stage3'))\n",
    "learn.freeze()\n",
    "learn.fit_one_cycle(30, max_lr=1e-3)"
   ]
  },
  {
   "cell_type": "markdown",
   "metadata": {},
   "source": [
    "## Compute the accuracy on the validation set"
   ]
  },
  {
   "cell_type": "code",
   "execution_count": 78,
   "metadata": {},
   "outputs": [
    {
     "data": {
      "text/html": [],
      "text/plain": [
       "<IPython.core.display.HTML object>"
      ]
     },
     "metadata": {},
     "output_type": "display_data"
    },
    {
     "data": {
      "image/png": "[encoded data removed]",
      "text/plain": [
       "<Figure size 432x288 with 1 Axes>"
      ]
     },
     "metadata": {
      "needs_background": "light"
     },
     "output_type": "display_data"
    }
   ],
   "source": [
    "interp = ClassificationInterpretation.from_learner(learn)\n",
    "interp.plot_confusion_matrix()"
   ]
  },
  {
   "cell_type": "markdown",
   "metadata": {},
   "source": [
    "## Compute the accuracy on the test set\n",
    "\n",
    "Test images are in `df_test` dataframe removing `covid` images.  We evaluate the performance of the method in terms of the sensitivity and predictive positive value. We only consider the `covid` class and `other`. "
   ]
  },
  {
   "cell_type": "code",
   "execution_count": 91,
   "metadata": {},
   "outputs": [
    {
     "name": "stderr",
     "output_type": "stream",
     "text": [
      "/home/sergivalverde/dev/miniconda/envs/pytorch36/lib/python3.7/site-packages/ipykernel_launcher.py:11: SettingWithCopyWarning: \n",
      "A value is trying to be set on a copy of a slice from a DataFrame.\n",
      "Try using .loc[row_indexer,col_indexer] = value instead\n",
      "\n",
      "See the caveats in the documentation: http://pandas.pydata.org/pandas-docs/stable/user_guide/indexing.html#returning-a-view-versus-a-copy\n",
      "  # This is added back by InteractiveShellApp.init_path()\n",
      "/home/sergivalverde/dev/miniconda/envs/pytorch36/lib/python3.7/site-packages/ipykernel_launcher.py:12: SettingWithCopyWarning: \n",
      "A value is trying to be set on a copy of a slice from a DataFrame.\n",
      "Try using .loc[row_indexer,col_indexer] = value instead\n",
      "\n",
      "See the caveats in the documentation: http://pandas.pydata.org/pandas-docs/stable/user_guide/indexing.html#returning-a-view-versus-a-copy\n",
      "  if sys.path[0] == '':\n"
     ]
    },
    {
     "data": {
      "text/html": [
       "<div>\n",
       "<style scoped>\n",
       "    .dataframe tbody tr th:only-of-type {\n",
       "        vertical-align: middle;\n",
       "    }\n",
       "\n",
       "    .dataframe tbody tr th {\n",
       "        vertical-align: top;\n",
       "    }\n",
       "\n",
       "    .dataframe thead th {\n",
       "        text-align: right;\n",
       "    }\n",
       "</style>\n",
       "<table border=\"1\" class=\"dataframe\">\n",
       "  <thead>\n",
       "    <tr style=\"text-align: right;\">\n",
       "      <th></th>\n",
       "      <th>name</th>\n",
       "      <th>label</th>\n",
       "    </tr>\n",
       "  </thead>\n",
       "  <tbody>\n",
       "    <tr>\n",
       "      <th>count</th>\n",
       "      <td>1857</td>\n",
       "      <td>1857</td>\n",
       "    </tr>\n",
       "    <tr>\n",
       "      <th>unique</th>\n",
       "      <td>1491</td>\n",
       "      <td>2</td>\n",
       "    </tr>\n",
       "    <tr>\n",
       "      <th>top</th>\n",
       "      <td>data/COVIDx/test/0e03c2d7-9cea-4dc7-8e91-794a8...</td>\n",
       "      <td>other</td>\n",
       "    </tr>\n",
       "    <tr>\n",
       "      <th>freq</th>\n",
       "      <td>4</td>\n",
       "      <td>1846</td>\n",
       "    </tr>\n",
       "  </tbody>\n",
       "</table>\n",
       "</div>"
      ],
      "text/plain": [
       "                                                     name  label\n",
       "count                                                1857   1857\n",
       "unique                                               1491      2\n",
       "top     data/COVIDx/test/0e03c2d7-9cea-4dc7-8e91-794a8...  other\n",
       "freq                                                    4   1846"
      ]
     },
     "execution_count": 91,
     "metadata": {},
     "output_type": "execute_result"
    }
   ],
   "source": [
    "df_test = pd.read_pickle('covidX_test.pkl')\n",
    "\n",
    "covid_samples = df_test['label'] == 'covid'\n",
    "pneumonia_samples = df_test['label'] == 'pneumonia'\n",
    "normal_samples = df_test['label'] == 'normal'\n",
    "\n",
    "# new dataset creation\n",
    "covid_df = df_test[covid_samples]\n",
    "pneumonia_df = df_test[pneumonia_samples]\n",
    "normal_df = df_test[normal_samples]\n",
    "pneumonia_df['label'] = ['other' for l in range(len(pneumonia_df))]\n",
    "normal_df['label'] = ['other' for l in range(len(normal_df))]\n",
    "\n",
    "df_test_covid = pd.concat([covid_df, pneumonia_df, normal_df])\n",
    "df_test_covid.describe()"
   ]
  },
  {
   "cell_type": "code",
   "execution_count": 129,
   "metadata": {},
   "outputs": [],
   "source": [
    "classes = ['covid', 'other']\n",
    "test_images = df_test_covid['name']\n",
    "labels = df_test_covid['label']\n",
    "EVAL_CASES = len(labels)\n",
    "PRED_TH = 0.5\n",
    "\n",
    "# convert labels to numbers to compare\n",
    "l2n = {'covid': 0, 'other': 1}\n",
    "num_labels = [l2n[l] for l in labels]\n",
    "\n",
    "# compute results\n",
    "results = {}\n",
    "predictions = []\n",
    "for f, l in zip(test_images[:EVAL_CASES], labels[:EVAL_CASES]):\n",
    "    pred = learn.predict(open_image(f))\n",
    "    i = 0 if pred[2][0] >= PRED_TH else np.argmax(pred[2][1:].numpy()) + 1\n",
    "    # i = np.argmax(pred[2].numpy())\n",
    "    # print('label:', l, pred, i)\n",
    "    results[f] = classes[i] \n",
    "    predictions.append(i)\n",
    "    \n"
   ]
  },
  {
   "cell_type": "code",
   "execution_count": 131,
   "metadata": {},
   "outputs": [
    {
     "data": {
      "text/html": [
       "<div>\n",
       "<style scoped>\n",
       "    .dataframe tbody tr th:only-of-type {\n",
       "        vertical-align: middle;\n",
       "    }\n",
       "\n",
       "    .dataframe tbody tr th {\n",
       "        vertical-align: top;\n",
       "    }\n",
       "\n",
       "    .dataframe thead th {\n",
       "        text-align: right;\n",
       "    }\n",
       "</style>\n",
       "<table border=\"1\" class=\"dataframe\">\n",
       "  <thead>\n",
       "    <tr style=\"text-align: right;\">\n",
       "      <th></th>\n",
       "      <th>class</th>\n",
       "      <th>num samples</th>\n",
       "      <th>sensitivity</th>\n",
       "      <th>precision</th>\n",
       "    </tr>\n",
       "  </thead>\n",
       "  <tbody>\n",
       "    <tr>\n",
       "      <th>0</th>\n",
       "      <td>covid</td>\n",
       "      <td>11</td>\n",
       "      <td>0.545455</td>\n",
       "      <td>0.068966</td>\n",
       "    </tr>\n",
       "    <tr>\n",
       "      <th>1</th>\n",
       "      <td>other</td>\n",
       "      <td>1846</td>\n",
       "      <td>0.956121</td>\n",
       "      <td>0.997175</td>\n",
       "    </tr>\n",
       "  </tbody>\n",
       "</table>\n",
       "</div>"
      ],
      "text/plain": [
       "   class  num samples  sensitivity  precision\n",
       "0  covid           11     0.545455   0.068966\n",
       "1  other         1846     0.956121   0.997175"
      ]
     },
     "execution_count": 131,
     "metadata": {},
     "output_type": "execute_result"
    },
    {
     "data": {
      "image/png": "[encoded data removed]",
      "text/plain": [
       "<Figure size 432x288 with 2 Axes>"
      ]
     },
     "metadata": {
      "needs_background": "light"
     },
     "output_type": "display_data"
    }
   ],
   "source": [
    "cm = confusion_matrix(num_labels[:EVAL_CASES], predictions, labels = [0, 1])\n",
    "ax = plt.subplot()\n",
    "sns.set_color_codes(\"pastel\")\n",
    "sns.heatmap(cm, annot=True, ax = ax, cmap=\"YlGnBu\")\n",
    "ax.set_xlabel('Predicted');ax.set_ylabel('Ground-truth'); \n",
    "ax.set_title('Confusion Matrix'); \n",
    "ax.xaxis.set_ticklabels(classes); ax.yaxis.set_ticklabels(classes);\n",
    "\n",
    "\n",
    "# count elements per class\n",
    "elements_x_class = [np.sum(num_labels[:EVAL_CASES] == (np.ones(EVAL_CASES) * l))\n",
    "                    for l in range(2)]\n",
    "\n",
    "# global accuracy\n",
    "g_acc = accuracy_score(num_labels[:EVAL_CASES], predictions)\n",
    "# sensitivity x clas\n",
    "recall_scores = recall_score(num_labels[:EVAL_CASES], predictions, average=None)\n",
    "# precision x class\n",
    "precision_scores = precision_score(num_labels[:EVAL_CASES], predictions, average=None)\n",
    "d_r = pd.DataFrame({'class': classes, \n",
    "                    'num samples': elements_x_class, \n",
    "                    'sensitivity': recall_scores, \n",
    "                    'precision': precision_scores})\n",
    "d_r.head()"
   ]
  },
  {
   "cell_type": "markdown",
   "metadata": {},
   "source": [
    "## Evaluate the performance on the private dataset\n",
    "\n",
    "We evaluate the performance on a unseen dataset from a private hospital composed of 5 `covid` and 5 `other` images. "
   ]
  },
  {
   "cell_type": "code",
   "execution_count": 135,
   "metadata": {},
   "outputs": [
    {
     "name": "stdout",
     "output_type": "stream",
     "text": [
      "other_2.png label: other (Category other, tensor(1), tensor([0.1825, 0.8175])) 1\n",
      "other_5.png label: other (Category other, tensor(1), tensor([0.0087, 0.9913])) 1\n",
      "other_1.png label: other (Category other, tensor(1), tensor([0.1280, 0.8720])) 1\n",
      "covid_4.png label: covid (Category covid, tensor(0), tensor([0.9688, 0.0312])) 0\n",
      "covid_2.png label: covid (Category covid, tensor(0), tensor([0.7397, 0.2603])) 0\n",
      "other_3.png label: other (Category other, tensor(1), tensor([0.0338, 0.9662])) 1\n",
      "covid_1.png label: covid (Category other, tensor(1), tensor([0.3050, 0.6950])) 1\n",
      "covid_5.png label: covid (Category covid, tensor(0), tensor([0.9766, 0.0234])) 0\n",
      "covid_3.png label: covid (Category covid, tensor(0), tensor([0.8988, 0.1012])) 0\n",
      "other_4.png label: other (Category other, tensor(1), tensor([0.0298, 0.9702])) 1\n"
     ]
    }
   ],
   "source": [
    "hjt_folder = '/home/sergivalverde/DATA/COVID/HJT_COVID_19/images'\n",
    "\n",
    "classes = ['covid', 'other']\n",
    "test_images = [os.path.join(hjt_folder, f) for f in os.listdir(hjt_folder)]\n",
    "\n",
    "labels = []\n",
    "for l in os.listdir(hjt_folder):\n",
    "    if l.find('covid') >= 0:\n",
    "        current_label = 'covid'\n",
    "    else:\n",
    "        current_label = 'other'\n",
    "    labels.append(current_label)\n",
    "    \n",
    "PRED_TH = 0.5\n",
    "\n",
    "# convert labels to numbers to compare\n",
    "l2n = {'covid': 0, 'other': 1}\n",
    "num_labels = [l2n[l] for l in labels]\n",
    "\n",
    "# compute results\n",
    "results = {}\n",
    "predictions = []\n",
    "for f, l in zip(test_images, labels):\n",
    "    pred = learn.predict(open_image(f))\n",
    "    im_name = os.path.split(f)[1]\n",
    "    i = 0 if pred[2][0] >= PRED_TH else 1\n",
    "    # i = np.argmax(pred[2].numpy())\n",
    "    print(im_name, 'label:', l, pred, i)\n",
    "    results[f] = classes[i] \n",
    "    predictions.append(i)\n",
    "    \n"
   ]
  },
  {
   "cell_type": "code",
   "execution_count": 136,
   "metadata": {},
   "outputs": [
    {
     "data": {
      "text/html": [
       "<div>\n",
       "<style scoped>\n",
       "    .dataframe tbody tr th:only-of-type {\n",
       "        vertical-align: middle;\n",
       "    }\n",
       "\n",
       "    .dataframe tbody tr th {\n",
       "        vertical-align: top;\n",
       "    }\n",
       "\n",
       "    .dataframe thead th {\n",
       "        text-align: right;\n",
       "    }\n",
       "</style>\n",
       "<table border=\"1\" class=\"dataframe\">\n",
       "  <thead>\n",
       "    <tr style=\"text-align: right;\">\n",
       "      <th></th>\n",
       "      <th>class</th>\n",
       "      <th>num samples</th>\n",
       "      <th>sensitivity</th>\n",
       "      <th>precision</th>\n",
       "    </tr>\n",
       "  </thead>\n",
       "  <tbody>\n",
       "    <tr>\n",
       "      <th>0</th>\n",
       "      <td>covid</td>\n",
       "      <td>5</td>\n",
       "      <td>0.8</td>\n",
       "      <td>1.000000</td>\n",
       "    </tr>\n",
       "    <tr>\n",
       "      <th>1</th>\n",
       "      <td>other</td>\n",
       "      <td>5</td>\n",
       "      <td>1.0</td>\n",
       "      <td>0.833333</td>\n",
       "    </tr>\n",
       "  </tbody>\n",
       "</table>\n",
       "</div>"
      ],
      "text/plain": [
       "   class  num samples  sensitivity  precision\n",
       "0  covid            5          0.8   1.000000\n",
       "1  other            5          1.0   0.833333"
      ]
     },
     "execution_count": 136,
     "metadata": {},
     "output_type": "execute_result"
    },
    {
     "data": {
      "image/png": "[encoded data removed]",
      "text/plain": [
       "<Figure size 432x288 with 2 Axes>"
      ]
     },
     "metadata": {
      "needs_background": "light"
     },
     "output_type": "display_data"
    }
   ],
   "source": [
    "cm = confusion_matrix(num_labels, predictions, labels = [0, 1])\n",
    "ax = plt.subplot()\n",
    "sns.set_color_codes(\"pastel\")\n",
    "sns.heatmap(cm, annot=True, ax = ax, cmap=\"YlGnBu\")\n",
    "ax.set_xlabel('Predicted');ax.set_ylabel('Ground-truth'); \n",
    "ax.set_title('Confusion Matrix'); \n",
    "ax.xaxis.set_ticklabels(classes); ax.yaxis.set_ticklabels(classes);\n",
    "\n",
    "\n",
    "# count elements per class\n",
    "elements_x_class = [np.sum(num_labels == (np.ones(len(num_labels)) * l))\n",
    "                    for l in range(2)]\n",
    "\n",
    "# global accuracy\n",
    "g_acc = accuracy_score(num_labels, predictions)\n",
    "# sensitivity x clas\n",
    "recall_scores = recall_score(num_labels, predictions, average=None)\n",
    "# precision x class\n",
    "precision_scores = precision_score(num_labels, predictions, average=None)\n",
    "d_r = pd.DataFrame({'class': classes, \n",
    "                    'num samples': elements_x_class, \n",
    "                    'sensitivity': recall_scores, \n",
    "                    'precision': precision_scores})\n",
    "d_r.head()"
   ]
  },
  {
   "cell_type": "code",
   "execution_count": null,
   "metadata": {},
   "outputs": [],
   "source": []
  }
 ],
 "metadata": {
  "accelerator": "GPU",
  "colab": {
   "authorship_tag": "ABX9TyP5bVIHFYCIyYBvI2lOz9C4",
   "include_colab_link": true,
   "name": "NCOV19 X-ray Classifier.ipynb",
   "provenance": null
  },
  "kernelspec": {
   "display_name": "Python 3",
   "language": "python",
   "name": "python3"
  },
  "language_info": {
   "codemirror_mode": {
    "name": "ipython",
    "version": 3
   },
   "file_extension": ".py",
   "mimetype": "text/x-python",
   "name": "python",
   "nbconvert_exporter": "python",
   "pygments_lexer": "ipython3",
   "version": "3.7.5"
  },
  "name": "COVID-ResNet.ipynb"
 },
 "nbformat": 4,
 "nbformat_minor": 4
}
